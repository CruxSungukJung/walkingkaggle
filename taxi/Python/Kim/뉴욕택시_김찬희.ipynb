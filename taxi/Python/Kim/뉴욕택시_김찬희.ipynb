{
 "cells": [
  {
   "cell_type": "markdown",
   "metadata": {},
   "source": [
    "# New York City Taxi Trip Duration\n",
    "- https://www.kaggle.com/c/nyc-taxi-trip-duration\n",
    "- 데이터: https://www.kaggle.com/c/nyc-taxi-trip-duration/data\n",
    "    - 뉴욕 택시 승하차 위경도 및 시간이 주요 데이터\n",
    "    - target: trip duration (in seconds)\n",
    "- 평가: Root Mean Squared Logarithmic Error.\n",
    "\n",
    "# 목표\n",
    "- 커널 따라하기: https://www.kaggle.com/gaborfodor/from-eda-to-the-top-lb-0-367\n",
    "- submission score: 0.44215\n",
    "\n",
    "# 배운 점\n",
    "- clustering를 활용한 feature engineering\n",
    "    - target 값을 직접적으로 이용한 데이터와 같이 traing set에서만 얻을 수 있는 데이터를 clustering를 통해 test set에 적용.\n",
    "- 데이터가 부족하면 외부 데이터를 끌어와 보강\n",
    "    - https://www.kaggle.com/oscarleo/new-york-city-taxi-with-osrm\n",
    "        - OSRM (Open Source Routing Machine): http://project-osrm.org/\n",
    "- lightgbm\n",
    "    - https://lightgbm.readthedocs.io/en/latest/Experiments.html#"
   ]
  },
  {
   "cell_type": "code",
   "execution_count": 1,
   "metadata": {
    "_cell_guid": "963845e4-1e0b-43cb-8f96-3a6cc3c65c45",
    "_execution_state": "busy",
    "_uuid": "3e7eace53021a688d91d5939f52569716f998397",
    "collapsed": true
   },
   "outputs": [],
   "source": [
    "%matplotlib inline\n",
    "import numpy as np\n",
    "import pandas as pd\n",
    "from datetime import timedelta\n",
    "import datetime as dt\n",
    "import matplotlib.pyplot as plt\n",
    "# plt.rcParams['figure.figsize'] = [16, 10]\n",
    "import seaborn as sns\n",
    "import lightgbm as lgb\n",
    "from sklearn.model_selection import train_test_split\n",
    "from sklearn.decomposition import PCA\n",
    "from sklearn.cluster import MiniBatchKMeans"
   ]
  },
  {
   "cell_type": "code",
   "execution_count": 2,
   "metadata": {
    "_cell_guid": "b01447cc-9e19-4099-bf5c-7f4a20f86392",
    "_execution_state": "busy",
    "_uuid": "4b38084abfec19c85c6cdab171603ce918cce80d",
    "collapsed": true
   },
   "outputs": [],
   "source": [
    "np.random.seed(1987)\n",
    "t0 = dt.datetime.now()\n",
    "train = pd.read_csv('train.csv')\n",
    "test = pd.read_csv('test.csv')\n",
    "sample_submission = pd.read_csv('sample_submission.csv')"
   ]
  },
  {
   "cell_type": "code",
   "execution_count": 3,
   "metadata": {
    "_cell_guid": "4a8d4f81-a77e-4372-9cfa-3213135f8aa4",
    "_execution_state": "busy",
    "_uuid": "351937722ec85070faa0ea76a677076683594b92",
    "scrolled": false
   },
   "outputs": [],
   "source": [
    "train['pickup_datetime'] = pd.to_datetime(train.pickup_datetime)\n",
    "test['pickup_datetime'] = pd.to_datetime(test.pickup_datetime)\n",
    "train.loc[:, 'pickup_date'] = train['pickup_datetime'].dt.date\n",
    "test.loc[:, 'pickup_date'] = test['pickup_datetime'].dt.date\n",
    "train['dropoff_datetime'] = pd.to_datetime(train.dropoff_datetime)\n",
    "train['store_and_fwd_flag'] = train.store_and_fwd_flag.map({'Y':1, 'N':0})\n",
    "test['store_and_fwd_flag'] = test.store_and_fwd_flag.map({'Y':1, 'N':0})\n",
    "train['check_trip_duration'] = (train['dropoff_datetime'] - train['pickup_datetime']).map(lambda x: x.total_seconds())\n",
    "duration_difference = train[np.abs(train['check_trip_duration']  - train['trip_duration']) > 1]"
   ]
  },
  {
   "cell_type": "code",
   "execution_count": 12,
   "metadata": {
    "collapsed": true
   },
   "outputs": [],
   "source": [
    "train['log_trip_duration'] = np.log(train['trip_duration'].values + 1)"
   ]
  },
  {
   "cell_type": "code",
   "execution_count": 4,
   "metadata": {
    "_cell_guid": "9784908d-5615-4c31-8217-4679f7f63c0f",
    "_execution_state": "busy",
    "_uuid": "e08305076a6d80973ccb02113147eff486f19900",
    "collapsed": true
   },
   "outputs": [],
   "source": [
    "coords = np.vstack((train[['pickup_latitude', 'pickup_longitude']],\n",
    "                    train[['dropoff_latitude', 'dropoff_longitude']],\n",
    "                    test[['pickup_latitude', 'pickup_longitude']],\n",
    "                     test[['dropoff_latitude', 'dropoff_longitude']]))\n",
    "\n",
    "pca = PCA().fit(coords)\n",
    "train['pickup_pca0'] = pca.transform(train[['pickup_latitude', 'pickup_longitude']])[:, 0]\n",
    "train['pickup_pca1'] = pca.transform(train[['pickup_latitude', 'pickup_longitude']])[:, 1]\n",
    "train['dropoff_pca0'] = pca.transform(train[['dropoff_latitude', 'dropoff_longitude']])[:, 0]\n",
    "train['dropoff_pca1'] = pca.transform(train[['dropoff_latitude', 'dropoff_longitude']])[:, 1]\n",
    "test['pickup_pca0'] = pca.transform(test[['pickup_latitude', 'pickup_longitude']])[:, 0]\n",
    "test['pickup_pca1'] = pca.transform(test[['pickup_latitude', 'pickup_longitude']])[:, 1]\n",
    "test['dropoff_pca0'] = pca.transform(test[['dropoff_latitude', 'dropoff_longitude']])[:, 0]\n",
    "test['dropoff_pca1'] = pca.transform(test[['dropoff_latitude', 'dropoff_longitude']])[:, 1]"
   ]
  },
  {
   "cell_type": "code",
   "execution_count": 5,
   "metadata": {
    "_cell_guid": "c5e348ce-b673-437a-b6a9-b951f895cb84",
    "_execution_state": "busy",
    "_uuid": "ba82f706ad4c9fde07915ece0f378102829acd76",
    "collapsed": true
   },
   "outputs": [],
   "source": [
    "def haversine_array(lat1, lng1, lat2, lng2):\n",
    "    lat1, lng1, lat2, lng2 = map(np.radians, (lat1, lng1, lat2, lng2))\n",
    "    AVG_EARTH_RADIUS = 6371  # in km\n",
    "    lat = lat2 - lat1\n",
    "    lng = lng2 - lng1\n",
    "    d = np.sin(lat * 0.5) ** 2 + np.cos(lat1) * np.cos(lat2) * np.sin(lng * 0.5) ** 2\n",
    "    h = 2 * AVG_EARTH_RADIUS * np.arcsin(np.sqrt(d))\n",
    "    return h\n",
    "\n",
    "def dummy_manhattan_distance(lat1, lng1, lat2, lng2):\n",
    "    a = haversine_array(lat1, lng1, lat1, lng2) # haversine distance w.r.t. lng\n",
    "    b = haversine_array(lat1, lng1, lat2, lng1) # haversine distance w.r.t. lat\n",
    "    return a + b\n",
    "\n",
    "def bearing_array(lat1, lng1, lat2, lng2):\n",
    "    AVG_EARTH_RADIUS = 6371  # in km\n",
    "    lng_delta_rad = np.radians(lng2 - lng1)\n",
    "    lat1, lng1, lat2, lng2 = map(np.radians, (lat1, lng1, lat2, lng2))\n",
    "    y = np.sin(lng_delta_rad) * np.cos(lat2)\n",
    "    x = np.cos(lat1) * np.sin(lat2) - np.sin(lat1) * np.cos(lat2) * np.cos(lng_delta_rad)\n",
    "    return np.degrees(np.arctan2(y, x))\n",
    "\n",
    "train.loc[:, 'distance_haversine'] = haversine_array(train['pickup_latitude'], train['pickup_longitude'], train['dropoff_latitude'], train['dropoff_longitude'])\n",
    "train.loc[:, 'distance_dummy_manhattan'] = dummy_manhattan_distance(train['pickup_latitude'], train['pickup_longitude'], train['dropoff_latitude'], train['dropoff_longitude'])\n",
    "train.loc[:, 'direction'] = bearing_array(train['pickup_latitude'], train['pickup_longitude'], train['dropoff_latitude'], train['dropoff_longitude'])\n",
    "train.loc[:, 'pca_manhattan'] = np.abs(train['dropoff_pca1'] - train['pickup_pca1']) + np.abs(train['dropoff_pca0'] - train['pickup_pca0'])\n",
    "\n",
    "test.loc[:, 'distance_haversine'] = haversine_array(test['pickup_latitude'], test['pickup_longitude'], test['dropoff_latitude'], test['dropoff_longitude'])\n",
    "test.loc[:, 'distance_dummy_manhattan'] = dummy_manhattan_distance(test['pickup_latitude'], test['pickup_longitude'], test['dropoff_latitude'], test['dropoff_longitude'])\n",
    "test.loc[:, 'direction'] = bearing_array(test['pickup_latitude'], test['pickup_longitude'], test['dropoff_latitude'], test['dropoff_longitude'])\n",
    "test.loc[:, 'pca_manhattan'] = np.abs(test['dropoff_pca1'] - test['pickup_pca1']) + np.abs(test['dropoff_pca0'] - test['pickup_pca0'])\n",
    "\n",
    "train.loc[:, 'center_latitude'] = (train['pickup_latitude'] + train['dropoff_latitude']) / 2\n",
    "train.loc[:, 'center_longitude'] = (train['pickup_longitude'] + train['dropoff_longitude']) / 2\n",
    "\n",
    "test.loc[:, 'center_latitude'] = (test['pickup_latitude'] + test['dropoff_latitude']) / 2\n",
    "test.loc[:, 'center_longitude'] = (test['pickup_longitude'] + test['dropoff_longitude']) / 2"
   ]
  },
  {
   "cell_type": "code",
   "execution_count": 6,
   "metadata": {
    "_cell_guid": "1fde4f97-db7d-4299-9d6c-cc514fae37c8",
    "_execution_state": "busy",
    "_uuid": "9e4ad49c8df2763e7a231c22a38b6f4f89a43803",
    "collapsed": true
   },
   "outputs": [],
   "source": [
    "train.loc[:, 'pickup_weekday'] = train['pickup_datetime'].dt.weekday # range: 0(Mon)-6(Sun)\n",
    "train.loc[:, 'pickup_hour_weekofyear'] = train['pickup_datetime'].dt.weekofyear\n",
    "train.loc[:, 'pickup_hour'] = train['pickup_datetime'].dt.hour\n",
    "train.loc[:, 'pickup_minute'] = train['pickup_datetime'].dt.minute\n",
    "train.loc[:, 'pickup_dt'] = (train['pickup_datetime'] - train['pickup_datetime'].min()).dt.total_seconds()\n",
    "train.loc[:, 'pickup_week_hour'] = train['pickup_weekday'] * 24 + train['pickup_hour'] # range: 0-7*24\n",
    "\n",
    "test.loc[:, 'pickup_weekday'] = test['pickup_datetime'].dt.weekday\n",
    "test.loc[:, 'pickup_hour_weekofyear'] = test['pickup_datetime'].dt.weekofyear\n",
    "test.loc[:, 'pickup_hour'] = test['pickup_datetime'].dt.hour\n",
    "test.loc[:, 'pickup_minute'] = test['pickup_datetime'].dt.minute\n",
    "test.loc[:, 'pickup_dt'] = (test['pickup_datetime'] - train['pickup_datetime'].min()).dt.total_seconds()\n",
    "test.loc[:, 'pickup_week_hour'] = test['pickup_weekday'] * 24 + test['pickup_hour']"
   ]
  },
  {
   "cell_type": "code",
   "execution_count": 7,
   "metadata": {
    "_cell_guid": "b065fea1-36fc-4172-957d-0cf5aeea60f0",
    "_execution_state": "busy",
    "_uuid": "f7634a2eb0a383f68b62e60d4f8541e117c344bb"
   },
   "outputs": [],
   "source": [
    "train.loc[:, 'avg_speed_h'] = 1000 * train['distance_haversine'] / train['trip_duration']\n",
    "train.loc[:, 'avg_speed_m'] = 1000 * train['distance_dummy_manhattan'] / train['trip_duration']"
   ]
  },
  {
   "cell_type": "code",
   "execution_count": 8,
   "metadata": {
    "_cell_guid": "97c11c0a-c6db-4d50-8da3-708e61253dc5",
    "_execution_state": "busy",
    "_uuid": "fe4876d738d645599c8c0515f2735554a85242f8",
    "collapsed": true
   },
   "outputs": [],
   "source": [
    "train.loc[:, 'pickup_lat_bin'] = np.round(train['pickup_latitude'], 3)\n",
    "train.loc[:, 'pickup_long_bin'] = np.round(train['pickup_longitude'], 3)\n",
    "# Average speed for regions\n",
    "gby_cols = ['pickup_lat_bin', 'pickup_long_bin']\n",
    "coord_speed = train.groupby(gby_cols).mean()[['avg_speed_h']].reset_index()\n",
    "coord_count = train.groupby(gby_cols).count()[['id']].reset_index()\n",
    "coord_stats = pd.merge(coord_speed, coord_count, on=gby_cols)\n",
    "coord_stats = coord_stats[coord_stats['id'] > 100]\n",
    "\n",
    "train.loc[:, 'pickup_lat_bin'] = np.round(train['pickup_latitude'], 2)\n",
    "train.loc[:, 'pickup_long_bin'] = np.round(train['pickup_longitude'], 2)\n",
    "train.loc[:, 'center_lat_bin'] = np.round(train['center_latitude'], 2)\n",
    "train.loc[:, 'center_long_bin'] = np.round(train['center_longitude'], 2)\n",
    "train.loc[:, 'pickup_dt_bin'] = (train['pickup_dt'] // (3 * 3600))\n",
    "test.loc[:, 'pickup_lat_bin'] = np.round(test['pickup_latitude'], 2)\n",
    "test.loc[:, 'pickup_long_bin'] = np.round(test['pickup_longitude'], 2)\n",
    "test.loc[:, 'center_lat_bin'] = np.round(test['center_latitude'], 2)\n",
    "test.loc[:, 'center_long_bin'] = np.round(test['center_longitude'], 2)\n",
    "test.loc[:, 'pickup_dt_bin'] = (test['pickup_dt'] // (3 * 3600))"
   ]
  },
  {
   "cell_type": "code",
   "execution_count": 9,
   "metadata": {
    "_cell_guid": "9daf8ee3-73ec-4b87-8c3a-988470ae46c0",
    "_execution_state": "busy",
    "_uuid": "e8ca3994e63a5fdde9d6f72b2ebad026a2a542fa",
    "collapsed": true
   },
   "outputs": [],
   "source": [
    "sample_ind = np.random.permutation(len(coords))[:500000]\n",
    "kmeans = MiniBatchKMeans(n_clusters=100, batch_size=10000).fit(coords[sample_ind])"
   ]
  },
  {
   "cell_type": "markdown",
   "metadata": {},
   "source": [
    "`coords`는 train data, test data 합집합, pickup points, dropoff points 합집합"
   ]
  },
  {
   "cell_type": "code",
   "execution_count": 10,
   "metadata": {
    "_cell_guid": "4fbacebe-8b5c-4c21-b56d-3eefa5129920",
    "_execution_state": "busy",
    "_uuid": "18e660c8cf8ca09e45ec7b8d3c200826754869ea",
    "collapsed": true
   },
   "outputs": [],
   "source": [
    "train.loc[:, 'pickup_cluster'] = kmeans.predict(train[['pickup_latitude', 'pickup_longitude']])\n",
    "train.loc[:, 'dropoff_cluster'] = kmeans.predict(train[['dropoff_latitude', 'dropoff_longitude']])\n",
    "test.loc[:, 'pickup_cluster'] = kmeans.predict(test[['pickup_latitude', 'pickup_longitude']])\n",
    "test.loc[:, 'dropoff_cluster'] = kmeans.predict(test[['dropoff_latitude', 'dropoff_longitude']])"
   ]
  },
  {
   "cell_type": "code",
   "execution_count": 13,
   "metadata": {
    "_cell_guid": "988fc588-ec38-4ca9-b14d-dd9a0efcbaf7",
    "_execution_state": "busy",
    "_uuid": "8af5259e53bdbdca56548506cb1f5658e88bb86b"
   },
   "outputs": [],
   "source": [
    "for gby_col in ['pickup_hour', 'pickup_date', 'pickup_dt_bin',\n",
    "               'pickup_week_hour', 'pickup_cluster', 'dropoff_cluster']:\n",
    "    gby = train.groupby(gby_col).mean()[['avg_speed_h', 'avg_speed_m', 'log_trip_duration']]\n",
    "    gby.columns = ['%s_gby_%s' % (col, gby_col) for col in gby.columns]\n",
    "    train = pd.merge(train, gby, how='left', left_on=gby_col, right_index=True)\n",
    "    test = pd.merge(test, gby, how='left', left_on=gby_col, right_index=True)\n",
    "\n",
    "# multi-level groups\n",
    "for gby_cols in [['center_lat_bin', 'center_long_bin'],\n",
    "                 ['pickup_hour', 'center_lat_bin', 'center_long_bin'],\n",
    "                 ['pickup_hour', 'pickup_cluster'], \n",
    "                 ['pickup_hour', 'dropoff_cluster'],\n",
    "                 ['pickup_cluster', 'dropoff_cluster']]:\n",
    "    coord_speed = train.groupby(gby_cols).mean()[['avg_speed_h']].reset_index()\n",
    "    coord_count = train.groupby(gby_cols).count()[['id']].reset_index()\n",
    "    coord_stats = pd.merge(coord_speed, coord_count, on=gby_cols)\n",
    "    coord_stats = coord_stats[coord_stats['id'] > 100]\n",
    "    coord_stats.columns = gby_cols + ['avg_speed_h_%s' % '_'.join(gby_cols), 'cnt_%s' %  '_'.join(gby_cols)]\n",
    "    train = pd.merge(train, coord_stats, how='left', on=gby_cols)\n",
    "    test = pd.merge(test, coord_stats, how='left', on=gby_cols)"
   ]
  },
  {
   "cell_type": "code",
   "execution_count": 14,
   "metadata": {
    "_cell_guid": "274b8ab6-214f-4cfd-a38f-1703ac7f209e",
    "_execution_state": "busy",
    "_uuid": "86fd17f95ef4f6511a859f1034fd7cbd9dc59bc0",
    "collapsed": true
   },
   "outputs": [],
   "source": [
    "group_freq = '60min'\n",
    "df_all = pd.concat((train, test))[['id', 'pickup_datetime', 'pickup_cluster', 'dropoff_cluster']]\n",
    "train.loc[:, 'pickup_datetime_group'] = train['pickup_datetime'].dt.round(group_freq)\n",
    "test.loc[:, 'pickup_datetime_group'] = test['pickup_datetime'].dt.round(group_freq)\n",
    "\n",
    "# Count trips over 60min\n",
    "df_counts = df_all.set_index('pickup_datetime')[['id']].sort_index()\n",
    "df_counts['count_60min'] = df_counts.isnull().rolling(group_freq).count()['id']\n",
    "train = train.merge(df_counts, on='id', how='left')\n",
    "test = test.merge(df_counts, on='id', how='left')\n",
    "\n",
    "# Count how many trips are going to each cluster over time\n",
    "dropoff_counts = df_all \\\n",
    "    .set_index('pickup_datetime') \\\n",
    "    .groupby([pd.TimeGrouper(group_freq), 'dropoff_cluster']) \\\n",
    "    .agg({'id': 'count'}) \\\n",
    "    .reset_index().set_index('pickup_datetime') \\\n",
    "    .groupby('dropoff_cluster').rolling('240min').mean() \\\n",
    "    .drop('dropoff_cluster', axis=1) \\\n",
    "    .reset_index().set_index('pickup_datetime').shift(freq='-120min').reset_index() \\\n",
    "    .rename(columns={'pickup_datetime': 'pickup_datetime_group', 'id': 'dropoff_cluster_count'})\n",
    "\n",
    "train['dropoff_cluster_count'] = train[['pickup_datetime_group', 'dropoff_cluster']].merge(dropoff_counts, on=['pickup_datetime_group', 'dropoff_cluster'], how='left')['dropoff_cluster_count'].fillna(0)\n",
    "test['dropoff_cluster_count'] = test[['pickup_datetime_group', 'dropoff_cluster']].merge(dropoff_counts, on=['pickup_datetime_group', 'dropoff_cluster'], how='left')['dropoff_cluster_count'].fillna(0)"
   ]
  },
  {
   "cell_type": "code",
   "execution_count": 15,
   "metadata": {
    "_cell_guid": "8a8f8156-f338-4e88-ae26-768bc366e584",
    "_execution_state": "busy",
    "_uuid": "5916baf863150d9e06b494bdee37f02279b33432",
    "collapsed": true
   },
   "outputs": [],
   "source": [
    "# Count how many trips are going from each cluster over time\n",
    "df_all = pd.concat((train, test))[['id', 'pickup_datetime', 'pickup_cluster', 'dropoff_cluster']]\n",
    "pickup_counts = df_all \\\n",
    "    .set_index('pickup_datetime') \\\n",
    "    .groupby([pd.TimeGrouper(group_freq), 'pickup_cluster']) \\\n",
    "    .agg({'id': 'count'}) \\\n",
    "    .reset_index().set_index('pickup_datetime') \\\n",
    "    .groupby('pickup_cluster').rolling('240min').mean() \\\n",
    "    .drop('pickup_cluster', axis=1) \\\n",
    "    .reset_index().set_index('pickup_datetime').shift(freq='-120min').reset_index() \\\n",
    "    .rename(columns={'pickup_datetime': 'pickup_datetime_group', 'id': 'pickup_cluster_count'})\n",
    "\n",
    "train['pickup_cluster_count'] = train[['pickup_datetime_group', 'pickup_cluster']].merge(pickup_counts, on=['pickup_datetime_group', 'pickup_cluster'], how='left')['pickup_cluster_count'].fillna(0)\n",
    "test['pickup_cluster_count'] = test[['pickup_datetime_group', 'pickup_cluster']].merge(pickup_counts, on=['pickup_datetime_group', 'pickup_cluster'], how='left')['pickup_cluster_count'].fillna(0)"
   ]
  },
  {
   "cell_type": "code",
   "execution_count": 16,
   "metadata": {
    "_cell_guid": "556e8515-3d30-4d86-851a-4521a22be898",
    "_execution_state": "busy",
    "_uuid": "86230689085d980d7ceb86891525aba827736078",
    "collapsed": true
   },
   "outputs": [],
   "source": [
    "fr1 = pd.read_csv('fastest_routes_train_part_1.csv',\n",
    "                  usecols=['id', 'total_distance', 'total_travel_time',  'number_of_steps'])\n",
    "fr2 = pd.read_csv('fastest_routes_train_part_2.csv',\n",
    "                  usecols=['id', 'total_distance', 'total_travel_time', 'number_of_steps'])\n",
    "test_street_info = pd.read_csv('fastest_routes_test.csv',\n",
    "                               usecols=['id', 'total_distance', 'total_travel_time', 'number_of_steps'])\n",
    "train_street_info = pd.concat((fr1, fr2))\n",
    "train = train.merge(train_street_info, how='left', on='id')\n",
    "test = test.merge(test_street_info, how='left', on='id')"
   ]
  },
  {
   "cell_type": "code",
   "execution_count": 18,
   "metadata": {
    "_cell_guid": "05de35e8-ef1f-47f9-b45a-34052fbba065",
    "_execution_state": "busy",
    "_uuid": "06b96f6c26f9ff746a7ec33957a271663f068ed5",
    "scrolled": false
   },
   "outputs": [],
   "source": [
    "feature_names = list(train.columns)\n",
    "do_not_use_for_training = ['id', 'log_trip_duration', 'pickup_datetime', 'dropoff_datetime',\n",
    "                           'trip_duration', 'check_trip_duration',\n",
    "                           'pickup_date', 'avg_speed_h', 'avg_speed_m',\n",
    "                           'pickup_lat_bin', 'pickup_long_bin',\n",
    "                           'center_lat_bin', 'center_long_bin',\n",
    "                           'pickup_dt_bin', 'pickup_datetime_group']\n",
    "feature_names = [f for f in train.columns if f not in do_not_use_for_training]\n",
    "y = np.log1p(train['trip_duration'])"
   ]
  },
  {
   "cell_type": "code",
   "execution_count": 19,
   "metadata": {},
   "outputs": [
    {
     "data": {
      "text/plain": [
       "['vendor_id',\n",
       " 'passenger_count',\n",
       " 'pickup_longitude',\n",
       " 'pickup_latitude',\n",
       " 'dropoff_longitude',\n",
       " 'dropoff_latitude',\n",
       " 'store_and_fwd_flag',\n",
       " 'pickup_pca0',\n",
       " 'pickup_pca1',\n",
       " 'dropoff_pca0',\n",
       " 'dropoff_pca1',\n",
       " 'distance_haversine',\n",
       " 'distance_dummy_manhattan',\n",
       " 'direction',\n",
       " 'pca_manhattan',\n",
       " 'center_latitude',\n",
       " 'center_longitude',\n",
       " 'pickup_weekday',\n",
       " 'pickup_hour_weekofyear',\n",
       " 'pickup_hour',\n",
       " 'pickup_minute',\n",
       " 'pickup_dt',\n",
       " 'pickup_week_hour',\n",
       " 'pickup_cluster',\n",
       " 'dropoff_cluster',\n",
       " 'avg_speed_h_gby_pickup_hour',\n",
       " 'avg_speed_m_gby_pickup_hour',\n",
       " 'log_trip_duration_gby_pickup_hour',\n",
       " 'avg_speed_h_gby_pickup_date',\n",
       " 'avg_speed_m_gby_pickup_date',\n",
       " 'log_trip_duration_gby_pickup_date',\n",
       " 'avg_speed_h_gby_pickup_dt_bin',\n",
       " 'avg_speed_m_gby_pickup_dt_bin',\n",
       " 'log_trip_duration_gby_pickup_dt_bin',\n",
       " 'avg_speed_h_gby_pickup_week_hour',\n",
       " 'avg_speed_m_gby_pickup_week_hour',\n",
       " 'log_trip_duration_gby_pickup_week_hour',\n",
       " 'avg_speed_h_gby_pickup_cluster',\n",
       " 'avg_speed_m_gby_pickup_cluster',\n",
       " 'log_trip_duration_gby_pickup_cluster',\n",
       " 'avg_speed_h_gby_dropoff_cluster',\n",
       " 'avg_speed_m_gby_dropoff_cluster',\n",
       " 'log_trip_duration_gby_dropoff_cluster',\n",
       " 'avg_speed_h_center_lat_bin_center_long_bin',\n",
       " 'cnt_center_lat_bin_center_long_bin',\n",
       " 'avg_speed_h_pickup_hour_center_lat_bin_center_long_bin',\n",
       " 'cnt_pickup_hour_center_lat_bin_center_long_bin',\n",
       " 'avg_speed_h_pickup_hour_pickup_cluster',\n",
       " 'cnt_pickup_hour_pickup_cluster',\n",
       " 'avg_speed_h_pickup_hour_dropoff_cluster',\n",
       " 'cnt_pickup_hour_dropoff_cluster',\n",
       " 'avg_speed_h_pickup_cluster_dropoff_cluster',\n",
       " 'cnt_pickup_cluster_dropoff_cluster',\n",
       " 'count_60min',\n",
       " 'dropoff_cluster_count',\n",
       " 'pickup_cluster_count',\n",
       " 'total_distance',\n",
       " 'total_travel_time',\n",
       " 'number_of_steps']"
      ]
     },
     "execution_count": 19,
     "metadata": {},
     "output_type": "execute_result"
    }
   ],
   "source": [
    "feature_names"
   ]
  },
  {
   "cell_type": "code",
   "execution_count": 20,
   "metadata": {
    "collapsed": true
   },
   "outputs": [],
   "source": [
    "feature_stats = pd.DataFrame({'feature': feature_names})\n",
    "feature_stats.loc[:, 'train_mean'] = np.nanmean(train[feature_names], axis=0).round(4)\n",
    "feature_stats.loc[:, 'test_mean'] = np.nanmean(test[feature_names], axis=0).round(4)\n",
    "feature_stats.loc[:, 'train_std'] = np.nanstd(train[feature_names], axis=0).round(4)\n",
    "feature_stats.loc[:, 'test_std'] = np.nanstd(test[feature_names], axis=0).round(4)\n",
    "feature_stats.loc[:, 'train_nan'] = np.mean(np.isnan(train[feature_names]), axis=0).round(3)\n",
    "feature_stats.loc[:, 'test_nan'] = np.mean(np.isnan(test[feature_names]), axis=0).round(3)\n",
    "feature_stats.loc[:, 'train_test_mean_diff'] = np.abs(feature_stats['train_mean'] - feature_stats['test_mean']) / np.abs(feature_stats['train_std'] + feature_stats['test_std'])  * 2\n",
    "feature_stats.loc[:, 'train_test_nan_diff'] = np.abs(feature_stats['train_nan'] - feature_stats['test_nan'])"
   ]
  },
  {
   "cell_type": "markdown",
   "metadata": {},
   "source": [
    "`train_test_mean_diff` $:=$\n",
    "$$\n",
    "\\frac {|\\mu_{train} - \\mu_{test}|} {{|\\sigma_{train} + \\sigma_{test}|} / {2}}\n",
    "$$"
   ]
  },
  {
   "cell_type": "raw",
   "metadata": {
    "collapsed": true
   },
   "source": [
    "feature_stats = feature_stats.sort_values(by='train_test_mean_diff')"
   ]
  },
  {
   "cell_type": "raw",
   "metadata": {
    "_cell_guid": "35dcede7-73cc-4c58-9ec0-57bd65eab138",
    "_execution_state": "busy",
    "_uuid": "2663816bd746dceaf1341c45fa1014041d29cb2c"
   },
   "source": [
    "feature_stats[['feature', 'train_test_mean_diff']]#.tail()"
   ]
  },
  {
   "cell_type": "raw",
   "metadata": {
    "collapsed": true
   },
   "source": [
    "feature_stats = feature_stats.sort_values(by='train_test_nan_diff')"
   ]
  },
  {
   "cell_type": "raw",
   "metadata": {
    "_cell_guid": "7d0273e7-d653-41ab-9948-6c79ea608e5d",
    "_execution_state": "busy",
    "_uuid": "8e6204828db3ff62379f617f9fbacf51546dbb84"
   },
   "source": [
    "feature_stats[['feature', 'train_nan', 'test_nan', 'train_test_nan_diff']]#.tail()"
   ]
  },
  {
   "cell_type": "code",
   "execution_count": 21,
   "metadata": {
    "collapsed": true
   },
   "outputs": [],
   "source": [
    "Xtr, Xv, ytr, yv = train_test_split(train[feature_names], y, test_size=0.2, random_state=1987)\n",
    "\n",
    "dtrain = lgb.Dataset(Xtr, label=ytr)\n",
    "dvalid = lgb.Dataset(Xv, label=yv)\n",
    "dtest = lgb.Dataset(test[feature_names])"
   ]
  },
  {
   "cell_type": "code",
   "execution_count": 22,
   "metadata": {
    "collapsed": true
   },
   "outputs": [],
   "source": [
    "model = lgb.LGBMRegressor(min_child_weight=50, learning_rate=0.3, colsample_bytree=0.3, max_depth=10,\n",
    "                          subsample=0.8, reg_lambda=1, boosting_type='gbdt')"
   ]
  },
  {
   "cell_type": "code",
   "execution_count": 26,
   "metadata": {},
   "outputs": [],
   "source": [
    "model = model.fit(Xtr, ytr, eval_set=[(Xv, yv)], verbose=False, eval_metric='rmse')"
   ]
  },
  {
   "cell_type": "code",
   "execution_count": 33,
   "metadata": {},
   "outputs": [
    {
     "data": {
      "text/plain": [
       "[(48, 'direction'),\n",
       " (32, 'distance_haversine'),\n",
       " (30, 'distance_dummy_manhattan'),\n",
       " (26, 'avg_speed_h_pickup_hour_dropoff_cluster'),\n",
       " (13, 'avg_speed_m_gby_pickup_dt_bin'),\n",
       " (12, 'avg_speed_h_gby_pickup_week_hour'),\n",
       " (12, 'avg_speed_h_center_lat_bin_center_long_bin'),\n",
       " (11, 'log_trip_duration_gby_pickup_cluster'),\n",
       " (10, 'pickup_pca1'),\n",
       " (10, 'log_trip_duration_gby_dropoff_cluster'),\n",
       " (9, 'log_trip_duration_gby_pickup_dt_bin'),\n",
       " (7, 'pickup_longitude'),\n",
       " (7, 'pca_manhattan'),\n",
       " (6, 'dropoff_pca0'),\n",
       " (6, 'avg_speed_h_pickup_hour_center_lat_bin_center_long_bin'),\n",
       " (5, 'pickup_pca0'),\n",
       " (5, 'dropoff_pca1'),\n",
       " (5, 'cnt_pickup_hour_center_lat_bin_center_long_bin'),\n",
       " (5, 'avg_speed_h_gby_pickup_dt_bin'),\n",
       " (4, 'dropoff_latitude'),\n",
       " (4, 'count_60min'),\n",
       " (4, 'cnt_center_lat_bin_center_long_bin'),\n",
       " (3, 'center_longitude'),\n",
       " (3, 'avg_speed_m_gby_pickup_week_hour'),\n",
       " (3, 'avg_speed_m_gby_pickup_date'),\n",
       " (3, 'avg_speed_m_gby_dropoff_cluster'),\n",
       " (3, 'avg_speed_h_gby_dropoff_cluster'),\n",
       " (2, 'pickup_week_hour'),\n",
       " (2, 'log_trip_duration_gby_pickup_week_hour'),\n",
       " (2, 'log_trip_duration_gby_pickup_hour'),\n",
       " (2, 'center_latitude'),\n",
       " (1, 'pickup_hour'),\n",
       " (1, 'passenger_count'),\n",
       " (1, 'dropoff_longitude'),\n",
       " (1, 'cnt_pickup_hour_pickup_cluster'),\n",
       " (1, 'avg_speed_h_pickup_hour_pickup_cluster'),\n",
       " (1, 'avg_speed_h_gby_pickup_hour'),\n",
       " (0, 'vendor_id'),\n",
       " (0, 'total_travel_time'),\n",
       " (0, 'total_distance'),\n",
       " (0, 'store_and_fwd_flag'),\n",
       " (0, 'pickup_weekday'),\n",
       " (0, 'pickup_minute'),\n",
       " (0, 'pickup_latitude'),\n",
       " (0, 'pickup_hour_weekofyear'),\n",
       " (0, 'pickup_dt'),\n",
       " (0, 'pickup_cluster_count'),\n",
       " (0, 'pickup_cluster'),\n",
       " (0, 'number_of_steps'),\n",
       " (0, 'log_trip_duration_gby_pickup_date'),\n",
       " (0, 'dropoff_cluster_count'),\n",
       " (0, 'dropoff_cluster'),\n",
       " (0, 'cnt_pickup_hour_dropoff_cluster'),\n",
       " (0, 'cnt_pickup_cluster_dropoff_cluster'),\n",
       " (0, 'avg_speed_m_gby_pickup_hour'),\n",
       " (0, 'avg_speed_m_gby_pickup_cluster'),\n",
       " (0, 'avg_speed_h_pickup_cluster_dropoff_cluster'),\n",
       " (0, 'avg_speed_h_gby_pickup_date'),\n",
       " (0, 'avg_speed_h_gby_pickup_cluster')]"
      ]
     },
     "execution_count": 33,
     "metadata": {},
     "output_type": "execute_result"
    }
   ],
   "source": [
    "sorted(zip(model.feature_importances_, feature_names), reverse=True)"
   ]
  },
  {
   "cell_type": "code",
   "execution_count": 27,
   "metadata": {
    "_cell_guid": "3c32d9c2-db22-444a-ab12-32918dd2797a",
    "_execution_state": "busy",
    "_uuid": "bd89e8c38aadd146dca953dfa5131c8cbbbe4ca3"
   },
   "outputs": [],
   "source": [
    "ytest = model.predict(test[feature_names])\n",
    "test['trip_duration'] = np.expm1(ytest)\n",
    "test[['id', 'trip_duration']].to_csv('submission.csv.gz', index=False, compression='gzip')"
   ]
  }
 ],
 "metadata": {
  "kernelspec": {
   "display_name": "kaggle",
   "language": "python",
   "name": "kaggle"
  },
  "language_info": {
   "codemirror_mode": {
    "name": "ipython",
    "version": 3
   },
   "file_extension": ".py",
   "mimetype": "text/x-python",
   "name": "python",
   "nbconvert_exporter": "python",
   "pygments_lexer": "ipython3",
   "version": "3.6.2"
  }
 },
 "nbformat": 4,
 "nbformat_minor": 1
}
