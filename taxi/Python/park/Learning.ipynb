{
 "cells": [
  {
   "cell_type": "code",
   "execution_count": 1,
   "metadata": {
    "collapsed": false
   },
   "outputs": [
    {
     "name": "stderr",
     "output_type": "stream",
     "text": [
      "C:\\Users\\samsung\\Anaconda3\\lib\\site-packages\\sklearn\\cross_validation.py:44: DeprecationWarning: This module was deprecated in version 0.18 in favor of the model_selection module into which all the refactored classes and functions are moved. Also note that the interface of the new CV iterators are different from that of this module. This module will be removed in 0.20.\n",
      "  \"This module will be removed in 0.20.\", DeprecationWarning)\n"
     ]
    }
   ],
   "source": [
    "import numpy as np\n",
    "import pandas as pd\n",
    "from sklearn import cross_validation\n",
    "from sklearn.cross_validation import KFold\n",
    "from sklearn.model_selection import StratifiedKFold\n",
    "from sklearn.model_selection import train_test_split\n",
    "from sklearn.metrics import mean_squared_error\n",
    "from math import sqrt\n",
    "import lightgbm as lgbm\n",
    "import warnings\n",
    "warnings.filterwarnings('ignore')"
   ]
  },
  {
   "cell_type": "markdown",
   "metadata": {},
   "source": [
    "# 깨달음\n",
    "1. 모든 변수를 일일히 다 하나씩 빼놓고 점검하는 건, 시간이 오래~~ 걸린다. <br/>\n",
    "    - 앞으론 Correlation 적극적으로 활용하자\n",
    "    - 만약 모든 변수를 하나씩 점검한다면, 잠자기 전에 돌리고 다음 날 확인하자\n",
    "2. 막 get_dummies 돌리지말자.<br/>\n",
    "    - 케이스가 2개밖에 안되는데, get_dummies를 돌려서 똑같은 데이터를 두번 점검한 경우가 있었다.\n",
    "3. ligthGBM predict할 때 raw data를 사용하자. lgbm.DataSet 사용하지 말고<br/>\n",
    "<br/>"
   ]
  },
  {
   "cell_type": "markdown",
   "metadata": {},
   "source": [
    "# Delete Unnecessary Variables with LightGBM\n",
    "\n",
    "--Test1--</br>\n",
    " 1. Insert all variables except one variables</br>\n",
    " 2. Extract unnecessary variables</br>\n",
    " 3. Give back necessary varaibles to preprocess file</br>"
   ]
  },
  {
   "cell_type": "markdown",
   "metadata": {},
   "source": [
    "### 1. Delete Candidate\n",
    "    - whour, passenger_count\n",
    "    - several condition useless\n",
    "### 2. Important Candidate\n",
    "    - hour, wday, dropoff_latitude, distance_jfk_pick\n",
    "    - total_travel_time ,...\n"
   ]
  },
  {
   "cell_type": "code",
   "execution_count": 59,
   "metadata": {
    "collapsed": false
   },
   "outputs": [
    {
     "data": {
      "text/html": [
       "<div>\n",
       "<table border=\"1\" class=\"dataframe\">\n",
       "  <thead>\n",
       "    <tr style=\"text-align: right;\">\n",
       "      <th></th>\n",
       "      <th>10</th>\n",
       "      <th>1</th>\n",
       "      <th>36</th>\n",
       "      <th>35</th>\n",
       "      <th>34</th>\n",
       "      <th>32</th>\n",
       "      <th>33</th>\n",
       "      <th>37</th>\n",
       "      <th>38</th>\n",
       "      <th>24</th>\n",
       "    </tr>\n",
       "  </thead>\n",
       "  <tbody>\n",
       "    <tr>\n",
       "      <th>variable</th>\n",
       "      <td>whour</td>\n",
       "      <td>passenger_count</td>\n",
       "      <td>c_Unknown</td>\n",
       "      <td>c_Snow</td>\n",
       "      <td>c_Scattered Clouds</td>\n",
       "      <td>c_Partly Cloudy</td>\n",
       "      <td>c_Rain</td>\n",
       "      <td>sf_N</td>\n",
       "      <td>sf_Y</td>\n",
       "      <td>c_Haze</td>\n",
       "    </tr>\n",
       "    <tr>\n",
       "      <th>RMSE</th>\n",
       "      <td>0.348208</td>\n",
       "      <td>0.348275</td>\n",
       "      <td>0.348465</td>\n",
       "      <td>0.348466</td>\n",
       "      <td>0.348466</td>\n",
       "      <td>0.348466</td>\n",
       "      <td>0.348466</td>\n",
       "      <td>0.348521</td>\n",
       "      <td>0.348521</td>\n",
       "      <td>0.348551</td>\n",
       "    </tr>\n",
       "  </tbody>\n",
       "</table>\n",
       "</div>"
      ],
      "text/plain": [
       "                10               1          36        35                  34  \\\n",
       "variable     whour  passenger_count  c_Unknown    c_Snow  c_Scattered Clouds   \n",
       "RMSE      0.348208         0.348275   0.348465  0.348466            0.348466   \n",
       "\n",
       "                       32        33        37        38        24  \n",
       "variable  c_Partly Cloudy    c_Rain      sf_N      sf_Y    c_Haze  \n",
       "RMSE             0.348466  0.348466  0.348521  0.348521  0.348551  "
      ]
     },
     "execution_count": 59,
     "metadata": {},
     "output_type": "execute_result"
    }
   ],
   "source": [
    "df.sort_values('RMSE').head(10).T"
   ]
  },
  {
   "cell_type": "code",
   "execution_count": 60,
   "metadata": {
    "collapsed": false
   },
   "outputs": [
    {
     "data": {
      "text/html": [
       "<div>\n",
       "<table border=\"1\" class=\"dataframe\">\n",
       "  <thead>\n",
       "    <tr style=\"text-align: right;\">\n",
       "      <th></th>\n",
       "      <th>4</th>\n",
       "      <th>20</th>\n",
       "      <th>17</th>\n",
       "      <th>22</th>\n",
       "      <th>7</th>\n",
       "      <th>21</th>\n",
       "      <th>16</th>\n",
       "      <th>5</th>\n",
       "      <th>8</th>\n",
       "      <th>9</th>\n",
       "    </tr>\n",
       "  </thead>\n",
       "  <tbody>\n",
       "    <tr>\n",
       "      <th>variable</th>\n",
       "      <td>dropoff_longitude</td>\n",
       "      <td>total_distance</td>\n",
       "      <td>distance_jfk_drop</td>\n",
       "      <td>number_of_steps</td>\n",
       "      <td>yday</td>\n",
       "      <td>total_travel_time</td>\n",
       "      <td>distance_jfk_pick</td>\n",
       "      <td>dropoff_latitude</td>\n",
       "      <td>wday</td>\n",
       "      <td>hour</td>\n",
       "    </tr>\n",
       "    <tr>\n",
       "      <th>RMSE</th>\n",
       "      <td>0.349717</td>\n",
       "      <td>0.349827</td>\n",
       "      <td>0.350047</td>\n",
       "      <td>0.350113</td>\n",
       "      <td>0.350405</td>\n",
       "      <td>0.350515</td>\n",
       "      <td>0.350912</td>\n",
       "      <td>0.351091</td>\n",
       "      <td>0.359471</td>\n",
       "      <td>0.374061</td>\n",
       "    </tr>\n",
       "  </tbody>\n",
       "</table>\n",
       "</div>"
      ],
      "text/plain": [
       "                         4               20                 17  \\\n",
       "variable  dropoff_longitude  total_distance  distance_jfk_drop   \n",
       "RMSE               0.349717        0.349827           0.350047   \n",
       "\n",
       "                       22        7                  21                 16  \\\n",
       "variable  number_of_steps      yday  total_travel_time  distance_jfk_pick   \n",
       "RMSE             0.350113  0.350405           0.350515           0.350912   \n",
       "\n",
       "                        5         8         9   \n",
       "variable  dropoff_latitude      wday      hour  \n",
       "RMSE              0.351091  0.359471  0.374061  "
      ]
     },
     "execution_count": 60,
     "metadata": {},
     "output_type": "execute_result"
    }
   ],
   "source": [
    "df.sort_values('RMSE').tail(10).T"
   ]
  },
  {
   "cell_type": "code",
   "execution_count": 2,
   "metadata": {
    "collapsed": true
   },
   "outputs": [],
   "source": [
    "train = pd.read_csv('train_set2.csv')\n",
    "test = pd.read_csv('test_set2.csv')"
   ]
  },
  {
   "cell_type": "code",
   "execution_count": 33,
   "metadata": {
    "collapsed": true
   },
   "outputs": [],
   "source": [
    "t_train = train.copy()\n",
    "t_test = test.copy()"
   ]
  },
  {
   "cell_type": "code",
   "execution_count": null,
   "metadata": {
    "collapsed": true
   },
   "outputs": [],
   "source": [
    "kf = KFold(train.shape[0], n_folds = 3,  random_state=1000)            \n",
    "\n",
    "for (train_index, cross_index) in kf:\n",
    "    t_train, _ = train.iloc[train_index], train.iloc[cross_index]\n",
    "\n",
    "t_train.index = pd.RangeIndex(t_train.shape[0])\n",
    "t_test = test.copy()"
   ]
  },
  {
   "cell_type": "code",
   "execution_count": 34,
   "metadata": {
    "collapsed": true
   },
   "outputs": [],
   "source": [
    "t_train.drop(['id','pickup_datetime', 'dropoff_datetime'], axis = 1, inplace = True)\n",
    "t_test.drop(['id','pickup_datetime'], axis = 1, inplace = True)\n",
    "ix = 0\n",
    "for df in [t_train, t_test]:\n",
    "    df_condition = pd.get_dummies(df['condition'], prefix = 'c', prefix_sep = '_')\n",
    "    df.drop(['condition'], axis =1, inplace= True)\n",
    "    df_Master = pd.concat([df, df_condition, df_store_and_fwd_flag], axis = 1)\n",
    "    if ix == 0: t_train= df_Master\n",
    "    else: t_test = df_Master\n",
    "    ix += 1"
   ]
  },
  {
   "cell_type": "code",
   "execution_count": null,
   "metadata": {
    "collapsed": true
   },
   "outputs": [],
   "source": []
  },
  {
   "cell_type": "code",
   "execution_count": 52,
   "metadata": {
    "collapsed": true
   },
   "outputs": [],
   "source": [
    "def lgbmExceptOneCol(t_train, t_test):\n",
    "    t_train['trip_duration'] = np.log(t_train['trip_duration'])\n",
    "    Y_train = t_train['trip_duration'].copy()\n",
    "    t_train = t_train.drop(['trip_duration'], axis =1)\n",
    "    lgbm_rounds = []\n",
    "    NFOLDS = 5\n",
    "    cv_score_list = []\n",
    "    #diction = ('vendor_id','passenger_count', 'pickup_longitude', 'pickup_atitude', 'dropoff_longitude', \n",
    "#'dropoff_latitude', 'month', 'yday', 'wday', 'hour', 'whour')\n",
    "    lgbm_params = {\n",
    "    'boosting_type': 'gbdt', 'objective': 'regression', 'nthread': -1, \n",
    "    'num_leaves': 32, 'learning_rate': 0.03, 'max_depth': -1,\n",
    "    'max_bin': 255, 'subsample_for_bin': 50000, 'metric': 'l2_root',\n",
    "    'subsample': 0.8, 'subsample_freq': 1, 'colsample_bytree': 0.7, 'reg_alpha': 1, 'reg_lambda': 1.2,\n",
    "    'min_split_gain': 0.6, 'min_child_weight': 4, 'min_child_samples': 10, 'scale_pos_weight': 1}\n",
    "\n",
    "    kf = KFold(t_train.shape[0], n_folds = NFOLDS,  random_state=1000)\n",
    "    colList = t_train.columns\n",
    "    res = []\n",
    "    for col in colList:\n",
    "        #if col == 'c_Light Freezing Fog': continue\n",
    "        #if col in diction: continue\n",
    "        print(col)\n",
    "        cv_sum = 0\n",
    "        for ix, (train_index, cross_index) in enumerate(kf):\n",
    "            #print(\"{} Fold \\n\".format(ix))\n",
    "            train = t_train.drop(col, axis = 1)\n",
    "            test = t_test.drop(col, axis = 1)\n",
    "            x_train, x_cross = train.iloc[train_index], train.iloc[cross_index]\n",
    "            y_train, y_cross = Y_train.iloc[train_index], Y_train.iloc[cross_index]\n",
    "            dtrain = lgbm.Dataset(x_train, label = y_train.values, silent = True)\n",
    "            dvalid = lgbm.Dataset(x_cross, label = y_cross.values, silent = True)\n",
    "            model = lgbm.train(lgbm_params, train_set = dtrain, num_boost_round = 200, valid_sets = dvalid,\n",
    "                      early_stopping_rounds = 100, verbose_eval = None)\n",
    "            lgbm_rounds.append(model.best_iteration)\n",
    "            scores_val = model.predict(x_cross, num_iteration = model.best_iteration)\n",
    "            cv_score = sqrt(mean_squared_error(y_cross, scores_val))\n",
    "            #print('eval-MAE : %.6f' % cv_score)\n",
    "            cv_score_list.append(cv_score)\n",
    "            cv_sum = cv_sum + cv_score\n",
    "    \n",
    "        score = cv_sum / NFOLDS\n",
    "        print(\"Average LogLikelihood: \", score)\n",
    "        res.append([col, score])\n",
    "                \n",
    "    return res"
   ]
  },
  {
   "cell_type": "code",
   "execution_count": 9,
   "metadata": {
    "collapsed": false
   },
   "outputs": [
    {
     "name": "stdout",
     "output_type": "stream",
     "text": [
      "pickup_latitude\n",
      "Average LogLikelihood:  0.34864094929406997\n",
      "pickup_cluster\n",
      "Average LogLikelihood:  0.34860272373145307\n",
      "dropoff_cluster\n",
      "Average LogLikelihood:  0.3486862380300073\n",
      "distance_haversine\n",
      "Average LogLikelihood:  0.3494901553541262\n",
      "distance_dummy_manhattan\n",
      "Average LogLikelihood:  0.34866986059946176\n",
      "distance_jfk_pick\n",
      "Average LogLikelihood:  0.3509120254975151\n",
      "distance_jfk_drop\n",
      "Average LogLikelihood:  0.35004673759299215\n",
      "distance_laguardia_pick\n",
      "Average LogLikelihood:  0.3486718461809466\n",
      "distance_laguardia_drop\n",
      "Average LogLikelihood:  0.3486915759595598\n",
      "total_distance\n",
      "Average LogLikelihood:  0.34982652133062947\n",
      "total_travel_time\n",
      "Average LogLikelihood:  0.35051478468174374\n",
      "number_of_steps\n",
      "Average LogLikelihood:  0.35011327124048275\n",
      "c_Clear\n",
      "Average LogLikelihood:  0.34856419943551764\n",
      "c_Haze\n",
      "Average LogLikelihood:  0.3485509547455716\n",
      "c_Heavy Rain\n",
      "Average LogLikelihood:  0.3485509547455716\n",
      "c_Heavy Snow\n",
      "Average LogLikelihood:  0.3485509547455716\n",
      "c_Light Freezing Rain\n",
      "Average LogLikelihood:  0.3485509547455716\n",
      "c_Light Rain\n",
      "Average LogLikelihood:  0.34858447226889716\n",
      "c_Light Snow\n",
      "Average LogLikelihood:  0.3485827458627343\n",
      "c_Mostly Cloudy\n",
      "Average LogLikelihood:  0.3485827458627343\n",
      "c_Overcast\n",
      "Average LogLikelihood:  0.3485610319480405\n",
      "c_Partly Cloudy\n",
      "Average LogLikelihood:  0.3484656571753564\n",
      "c_Rain\n",
      "Average LogLikelihood:  0.3484656571753564\n",
      "c_Scattered Clouds\n",
      "Average LogLikelihood:  0.3484656571753564\n",
      "c_Snow\n",
      "Average LogLikelihood:  0.3484656571753564\n",
      "c_Unknown\n",
      "Average LogLikelihood:  0.3484650799551655\n",
      "sf_N\n",
      "Average LogLikelihood:  0.34852148171909025\n",
      "sf_Y\n",
      "Average LogLikelihood:  0.34852148171909025\n"
     ]
    }
   ],
   "source": [
    "colRMSE = lgbmExceptOneCol(t_train, t_test)"
   ]
  },
  {
   "cell_type": "code",
   "execution_count": 11,
   "metadata": {
    "collapsed": false
   },
   "outputs": [],
   "source": [
    "colRMSE2 = [['vendor_id',0.3486582532098187],\n",
    "['passenger_count', 0.6969328370425323],\n",
    "['pickup_longitude', 1.0458056055466818],\n",
    "['pickup_atitude', 1.3944465548407519],\n",
    "['dropoff_longitude', 1.744163925776532],\n",
    "['dropoff_latitude', 2.0952547811750097],\n",
    "['month', 2.4438334138834468],\n",
    "['yday', 2.794238195924415],\n",
    "['wday',  3.1537092325381457],\n",
    "['hour', 3.5277706703579073],\n",
    "['whour',3.875978409090443]]\n",
    "for itr in reversed(range(len(colRMSE2))):\n",
    "    if itr == 0: continue\n",
    "    colRMSE2[itr][1] -= colRMSE2[itr-1][1]"
   ]
  },
  {
   "cell_type": "code",
   "execution_count": 15,
   "metadata": {
    "collapsed": true
   },
   "outputs": [],
   "source": [
    "colRMSE2.extend(colRMSE)"
   ]
  },
  {
   "cell_type": "code",
   "execution_count": 53,
   "metadata": {
    "collapsed": false
   },
   "outputs": [],
   "source": [
    "df = pd.DataFrame(colRMSE2, columns = ['variable', 'RMSE'])"
   ]
  },
  {
   "cell_type": "markdown",
   "metadata": {},
   "source": [
    "### 1. Delete Candidate\n",
    "    - whour, passenger_count\n",
    "    - several condition useless\n"
   ]
  },
  {
   "cell_type": "code",
   "execution_count": 57,
   "metadata": {
    "collapsed": false
   },
   "outputs": [
    {
     "data": {
      "text/html": [
       "<div>\n",
       "<table border=\"1\" class=\"dataframe\">\n",
       "  <thead>\n",
       "    <tr style=\"text-align: right;\">\n",
       "      <th></th>\n",
       "      <th>10</th>\n",
       "      <th>1</th>\n",
       "      <th>36</th>\n",
       "      <th>35</th>\n",
       "      <th>34</th>\n",
       "      <th>32</th>\n",
       "      <th>33</th>\n",
       "      <th>37</th>\n",
       "      <th>38</th>\n",
       "      <th>24</th>\n",
       "    </tr>\n",
       "  </thead>\n",
       "  <tbody>\n",
       "    <tr>\n",
       "      <th>variable</th>\n",
       "      <td>whour</td>\n",
       "      <td>passenger_count</td>\n",
       "      <td>c_Unknown</td>\n",
       "      <td>c_Snow</td>\n",
       "      <td>c_Scattered Clouds</td>\n",
       "      <td>c_Partly Cloudy</td>\n",
       "      <td>c_Rain</td>\n",
       "      <td>sf_N</td>\n",
       "      <td>sf_Y</td>\n",
       "      <td>c_Haze</td>\n",
       "    </tr>\n",
       "    <tr>\n",
       "      <th>RMSE</th>\n",
       "      <td>0.348208</td>\n",
       "      <td>0.348275</td>\n",
       "      <td>0.348465</td>\n",
       "      <td>0.348466</td>\n",
       "      <td>0.348466</td>\n",
       "      <td>0.348466</td>\n",
       "      <td>0.348466</td>\n",
       "      <td>0.348521</td>\n",
       "      <td>0.348521</td>\n",
       "      <td>0.348551</td>\n",
       "    </tr>\n",
       "  </tbody>\n",
       "</table>\n",
       "</div>"
      ],
      "text/plain": [
       "                10               1          36        35                  34  \\\n",
       "variable     whour  passenger_count  c_Unknown    c_Snow  c_Scattered Clouds   \n",
       "RMSE      0.348208         0.348275   0.348465  0.348466            0.348466   \n",
       "\n",
       "                       32        33        37        38        24  \n",
       "variable  c_Partly Cloudy    c_Rain      sf_N      sf_Y    c_Haze  \n",
       "RMSE             0.348466  0.348466  0.348521  0.348521  0.348551  "
      ]
     },
     "execution_count": 57,
     "metadata": {},
     "output_type": "execute_result"
    }
   ],
   "source": [
    "df.sort_values('RMSE').head(10).T"
   ]
  },
  {
   "cell_type": "markdown",
   "metadata": {},
   "source": [
    "### 2. Important Candidate\n",
    "    - hour, wday, dropoff_latitude, distance_jfk_pick\n",
    "    - total_travel_time ,..."
   ]
  },
  {
   "cell_type": "code",
   "execution_count": 58,
   "metadata": {
    "collapsed": false
   },
   "outputs": [
    {
     "data": {
      "text/html": [
       "<div>\n",
       "<table border=\"1\" class=\"dataframe\">\n",
       "  <thead>\n",
       "    <tr style=\"text-align: right;\">\n",
       "      <th></th>\n",
       "      <th>4</th>\n",
       "      <th>20</th>\n",
       "      <th>17</th>\n",
       "      <th>22</th>\n",
       "      <th>7</th>\n",
       "      <th>21</th>\n",
       "      <th>16</th>\n",
       "      <th>5</th>\n",
       "      <th>8</th>\n",
       "      <th>9</th>\n",
       "    </tr>\n",
       "  </thead>\n",
       "  <tbody>\n",
       "    <tr>\n",
       "      <th>variable</th>\n",
       "      <td>dropoff_longitude</td>\n",
       "      <td>total_distance</td>\n",
       "      <td>distance_jfk_drop</td>\n",
       "      <td>number_of_steps</td>\n",
       "      <td>yday</td>\n",
       "      <td>total_travel_time</td>\n",
       "      <td>distance_jfk_pick</td>\n",
       "      <td>dropoff_latitude</td>\n",
       "      <td>wday</td>\n",
       "      <td>hour</td>\n",
       "    </tr>\n",
       "    <tr>\n",
       "      <th>RMSE</th>\n",
       "      <td>0.349717</td>\n",
       "      <td>0.349827</td>\n",
       "      <td>0.350047</td>\n",
       "      <td>0.350113</td>\n",
       "      <td>0.350405</td>\n",
       "      <td>0.350515</td>\n",
       "      <td>0.350912</td>\n",
       "      <td>0.351091</td>\n",
       "      <td>0.359471</td>\n",
       "      <td>0.374061</td>\n",
       "    </tr>\n",
       "  </tbody>\n",
       "</table>\n",
       "</div>"
      ],
      "text/plain": [
       "                         4               20                 17  \\\n",
       "variable  dropoff_longitude  total_distance  distance_jfk_drop   \n",
       "RMSE               0.349717        0.349827           0.350047   \n",
       "\n",
       "                       22        7                  21                 16  \\\n",
       "variable  number_of_steps      yday  total_travel_time  distance_jfk_pick   \n",
       "RMSE             0.350113  0.350405           0.350515           0.350912   \n",
       "\n",
       "                        5         8         9   \n",
       "variable  dropoff_latitude      wday      hour  \n",
       "RMSE              0.351091  0.359471  0.374061  "
      ]
     },
     "execution_count": 58,
     "metadata": {},
     "output_type": "execute_result"
    }
   ],
   "source": [
    "df.sort_values('RMSE').tail(10).T"
   ]
  },
  {
   "cell_type": "code",
   "execution_count": 16,
   "metadata": {
    "collapsed": false
   },
   "outputs": [
    {
     "data": {
      "text/plain": [
       "[['vendor_id', 0.3486582532098187],\n",
       " ['passenger_count', 0.3482745838327136],\n",
       " ['pickup_longitude', 0.3488727685041495],\n",
       " ['pickup_atitude', 0.3486409492940701],\n",
       " ['dropoff_longitude', 0.34971737093578015],\n",
       " ['dropoff_latitude', 0.35109085539847773],\n",
       " ['month', 0.34857863270843703],\n",
       " ['yday', 0.35040478204096814],\n",
       " ['wday', 0.3594710366137308],\n",
       " ['hour', 0.37406143781976153],\n",
       " ['whour', 0.34820773873253597],\n",
       " ['pickup_latitude', 0.34864094929406997],\n",
       " ['pickup_cluster', 0.34860272373145307],\n",
       " ['dropoff_cluster', 0.3486862380300073],\n",
       " ['distance_haversine', 0.3494901553541262],\n",
       " ['distance_dummy_manhattan', 0.34866986059946176],\n",
       " ['distance_jfk_pick', 0.3509120254975151],\n",
       " ['distance_jfk_drop', 0.35004673759299215],\n",
       " ['distance_laguardia_pick', 0.3486718461809466],\n",
       " ['distance_laguardia_drop', 0.3486915759595598],\n",
       " ['total_distance', 0.34982652133062947],\n",
       " ['total_travel_time', 0.35051478468174374],\n",
       " ['number_of_steps', 0.35011327124048275],\n",
       " ['c_Clear', 0.34856419943551764],\n",
       " ['c_Haze', 0.3485509547455716],\n",
       " ['c_Heavy Rain', 0.3485509547455716],\n",
       " ['c_Heavy Snow', 0.3485509547455716],\n",
       " ['c_Light Freezing Rain', 0.3485509547455716],\n",
       " ['c_Light Rain', 0.34858447226889716],\n",
       " ['c_Light Snow', 0.3485827458627343],\n",
       " ['c_Mostly Cloudy', 0.3485827458627343],\n",
       " ['c_Overcast', 0.3485610319480405],\n",
       " ['c_Partly Cloudy', 0.3484656571753564],\n",
       " ['c_Rain', 0.3484656571753564],\n",
       " ['c_Scattered Clouds', 0.3484656571753564],\n",
       " ['c_Snow', 0.3484656571753564],\n",
       " ['c_Unknown', 0.3484650799551655],\n",
       " ['sf_N', 0.34852148171909025],\n",
       " ['sf_Y', 0.34852148171909025]]"
      ]
     },
     "execution_count": 16,
     "metadata": {},
     "output_type": "execute_result"
    }
   ],
   "source": [
    "colRMSE2"
   ]
  },
  {
   "cell_type": "code",
   "execution_count": 51,
   "metadata": {
    "collapsed": false
   },
   "outputs": [
    {
     "name": "stdout",
     "output_type": "stream",
     "text": [
      "0 Fold \n",
      "\n",
      "eval-MAE : 0.035628\n",
      "1 Fold \n",
      "\n",
      "eval-MAE : 0.035214\n",
      "2 Fold \n",
      "\n",
      "eval-MAE : 0.035302\n",
      "3 Fold \n",
      "\n",
      "eval-MAE : 0.035578\n",
      "4 Fold \n",
      "\n",
      "eval-MAE : 0.035430\n",
      "Average LogLikelihood:  0.03543057645141947\n",
      "1 0.03562797407216023\n",
      "2 0.03521445493252553\n",
      "3 0.035301523287573654\n",
      "4 0.03557846155301239\n",
      "5 0.035430468411825546\n",
      "test prediction\n",
      "bst Round : 203\n"
     ]
    }
   ],
   "source": [
    "mdl, score = lgbmTest(t_train, t_test)"
   ]
  },
  {
   "cell_type": "code",
   "execution_count": 62,
   "metadata": {
    "collapsed": false
   },
   "outputs": [
    {
     "data": {
      "text/plain": [
       "array([ 0.33980354,  0.33340087,  0.31651811, ...,  0.32490772,\n",
       "        0.32973411,  0.32973411])"
      ]
     },
     "execution_count": 62,
     "metadata": {},
     "output_type": "execute_result"
    }
   ],
   "source": [
    "mdl.predict(t_test)"
   ]
  },
  {
   "cell_type": "code",
   "execution_count": 50,
   "metadata": {
    "collapsed": true
   },
   "outputs": [],
   "source": [
    "#train_file = \"NYC/train_set1.csv\"\n",
    "#test_file = \"NYC/test_set1.csv\"\n",
    "def lgbmTest(train, test):\n",
    "    train['trip_duration'] = np.log(train['trip_duration'])\n",
    "    Y_train = train['trip_duration'].copy()\n",
    "    train = train.drop(['trip_duration'], axis =1)\n",
    "    cv_sum = 0\n",
    "    fpred = []\n",
    "    lgbm_rounds = []\n",
    "    NFOLDS = 5\n",
    "    cv_score_list = []\n",
    "    lgbm_params = {\n",
    "    'boosting_type': 'gbdt', 'objective': 'regression', 'nthread': -1,\n",
    "    'num_leaves': 32, 'learning_rate': 0.03, 'max_depth': -1,\n",
    "    'max_bin': 255, 'subsample_for_bin': 50000, 'metric': 'l2_root',\n",
    "    'subsample': 0.8, 'subsample_freq': 1, 'colsample_bytree': 0.7, 'reg_alpha': 1, 'reg_lambda': 1.2,\n",
    "    'min_split_gain': 0.6, 'min_child_weight': 4, 'min_child_samples': 10, 'scale_pos_weight': 1}\n",
    "\n",
    "    kf = KFold(train.shape[0], n_folds = NFOLDS)\n",
    "    for ix, (train_index, cross_index) in enumerate(kf):\n",
    "        print(\"{} Fold \\n\".format(ix))\n",
    "        x_train, x_cross = train.iloc[train_index], train.iloc[cross_index]\n",
    "        y_train, y_cross = Y_train.iloc[train_index], Y_train.iloc[cross_index]\n",
    "    \n",
    "        dtrain = lgbm.Dataset(x_train, label = y_train.values, silent = True)\n",
    "        dvalid = lgbm.Dataset(x_cross, label = y_cross.values, silent = True)\n",
    "        model = lgbm.train(lgbm_params, train_set = dtrain, num_boost_round = 100000, valid_sets = dvalid,\n",
    "                      early_stopping_rounds = 100, verbose_eval = None,)\n",
    "        lgbm_rounds.append(model.best_iteration)\n",
    "        scores_val = model.predict(x_cross, num_iteration = model.best_iteration)\n",
    "        cv_score = sqrt(mean_squared_error(y_cross, scores_val))\n",
    "        print('eval-MAE : %.6f' % cv_score)\n",
    "        cv_score_list.append(cv_score)\n",
    "        cv_sum = cv_sum + cv_score\n",
    "    \n",
    "    score = cv_sum / NFOLDS\n",
    "    print(\"Average LogLikelihood: \", score)\n",
    "    for cv_index, cv_s in enumerate(cv_score_list):\n",
    "        print(cv_index+1, cv_s)\n",
    "    \n",
    "    print('test prediction')\n",
    "    bstRound = max(lgbm_rounds)\n",
    "    print('bst Round :', bstRound)\n",
    "    \n",
    "    dtrain_all = lgbm.Dataset(train, label = Y_train.values, silent = True)\n",
    "    model = lgbm.train(lgbm_params, dtrain_all)\n",
    "    predictions = model.predict(train, num_iteration = bstRound)\n",
    "    cv_score= sqrt(mean_squared_error(predictions, Y_train.values))\n",
    "    return model, cv_score\n",
    "    #dtest = lgbm.Dataset(test.values)\n",
    "    #model = lgbm.train(lgbm_params, dtrain_all)\n",
    "    #predictions = model.predict(test, num_iteration = bstRound)\n",
    "    return predictions\n",
    "    "
   ]
  }
 ],
 "metadata": {
  "kernelspec": {
   "display_name": "Python 3",
   "language": "python",
   "name": "python3"
  },
  "language_info": {
   "codemirror_mode": {
    "name": "ipython",
    "version": 3
   },
   "file_extension": ".py",
   "mimetype": "text/x-python",
   "name": "python",
   "nbconvert_exporter": "python",
   "pygments_lexer": "ipython3",
   "version": "3.6.0"
  }
 },
 "nbformat": 4,
 "nbformat_minor": 2
}
