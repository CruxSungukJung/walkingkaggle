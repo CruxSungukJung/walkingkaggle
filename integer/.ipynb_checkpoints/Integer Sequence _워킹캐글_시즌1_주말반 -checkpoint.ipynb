{
 "cells": [
  {
   "cell_type": "markdown",
   "metadata": {},
   "source": [
    "### Integer Sequence  워킹캐글 시즌1 주말반 \n",
    "#### Ref1 : https://www.kaggle.com/endintears/integer-sequence-learning/real-machine-learning\n",
    "#### Ref2 : https://www.kaggle.com/endintears/integer-sequence-learning/linear-models"
   ]
  },
  {
   "cell_type": "code",
   "execution_count": 1,
   "metadata": {
    "collapsed": true
   },
   "outputs": [],
   "source": [
    "# Load the Data\n",
    "train <- read.csv(\"train.csv\",stringsAsFactors=FALSE)\n",
    "sequences <- strsplit(train$Sequence,split=\",\")"
   ]
  },
  {
   "cell_type": "code",
   "execution_count": 3,
   "metadata": {
    "collapsed": false
   },
   "outputs": [
    {
     "data": {
      "text/html": [
       "<table>\n",
       "<thead><tr><th scope=col>Id</th><th scope=col>Sequence</th></tr></thead>\n",
       "<tbody>\n",
       "\t<tr><td> 3                                                                                                                                                                                                   </td><td>1,3,13,87,1053,28576,2141733,508147108,402135275365,1073376057490373,9700385489355970183,298434346895322960005291,31479360095907908092817694945,11474377948948020660089085281068730                  </td></tr>\n",
       "\t<tr><td> 7                                                                                                                                                                                                   </td><td>1,2,1,5,5,1,11,16,7,1,23,44,30,9,1,47,112,104,48,11,1,95,272,320,200,70,13,1,191,640,912,720,340,96,15,1,383,1472,2464,2352,1400,532,126,17,1,767,3328,6400,7168,5152,2464,784,160,19,1,1535,7424    </td></tr>\n",
       "\t<tr><td> 8                                                                                                                                                                                                   </td><td>1,2,4,5,8,10,16,20,32,40,64,80,128,160,256,320,512,640,1024,1280,2048,2560,4096,5120,8192,10240,16384,20480,32768,40960,65536,81920,131072,163840,262144,327680,524288,655360,1048576,1310720,2097152</td></tr>\n",
       "\t<tr><td>11                                                                                                                                                                                                   </td><td>1,8,25,83,274,2275,132224,1060067,3312425,10997342,36304451,301432950,17519415551,140456757358,438889687625,1457125820233,4810267148324,39939263006825,2321287521544174,18610239435360217            </td></tr>\n",
       "\t<tr><td>13                                                                                                                                                                                                   </td><td>1,111,12211,1343211,147753211,16252853211,1787813853211,196659523853211,21632547623853211,2379580238623853211,261753826248623853211,28792920887348623853211                                          </td></tr>\n",
       "\t<tr><td>15                                                                                                                                                                                                   </td><td>1,1,1,1,1,1,1,1,1,5,1,1,1,1,5,5,1,1,1,1,11,5,5,11,5,1,1,1,1,5,23,5,23,5,5,1,1,1,1,21,5,39,5,5,39,5,21,5,1,1,1,1,5,1,17,1,17,1,1,5,1,1,1,1,31,5,5,29,1,1,29,1,5                                       </td></tr>\n",
       "</tbody>\n",
       "</table>\n"
      ],
      "text/latex": [
       "\\begin{tabular}{r|ll}\n",
       " Id & Sequence\\\\\n",
       "\\hline\n",
       "\t  3                                                                                                                                                                                                    & 1,3,13,87,1053,28576,2141733,508147108,402135275365,1073376057490373,9700385489355970183,298434346895322960005291,31479360095907908092817694945,11474377948948020660089085281068730                  \\\\\n",
       "\t  7                                                                                                                                                                                                    & 1,2,1,5,5,1,11,16,7,1,23,44,30,9,1,47,112,104,48,11,1,95,272,320,200,70,13,1,191,640,912,720,340,96,15,1,383,1472,2464,2352,1400,532,126,17,1,767,3328,6400,7168,5152,2464,784,160,19,1,1535,7424    \\\\\n",
       "\t  8                                                                                                                                                                                                    & 1,2,4,5,8,10,16,20,32,40,64,80,128,160,256,320,512,640,1024,1280,2048,2560,4096,5120,8192,10240,16384,20480,32768,40960,65536,81920,131072,163840,262144,327680,524288,655360,1048576,1310720,2097152\\\\\n",
       "\t 11                                                                                                                                                                                                    & 1,8,25,83,274,2275,132224,1060067,3312425,10997342,36304451,301432950,17519415551,140456757358,438889687625,1457125820233,4810267148324,39939263006825,2321287521544174,18610239435360217            \\\\\n",
       "\t 13                                                                                                                                                                                                    & 1,111,12211,1343211,147753211,16252853211,1787813853211,196659523853211,21632547623853211,2379580238623853211,261753826248623853211,28792920887348623853211                                          \\\\\n",
       "\t 15                                                                                                                                                                                                    & 1,1,1,1,1,1,1,1,1,5,1,1,1,1,5,5,1,1,1,1,11,5,5,11,5,1,1,1,1,5,23,5,23,5,5,1,1,1,1,21,5,39,5,5,39,5,21,5,1,1,1,1,5,1,17,1,17,1,1,5,1,1,1,1,31,5,5,29,1,1,29,1,5                                       \\\\\n",
       "\\end{tabular}\n"
      ],
      "text/markdown": [
       "\n",
       "Id | Sequence | \n",
       "|---|---|---|---|---|---|\n",
       "|  3                                                                                                                                                                                                    | 1,3,13,87,1053,28576,2141733,508147108,402135275365,1073376057490373,9700385489355970183,298434346895322960005291,31479360095907908092817694945,11474377948948020660089085281068730                   | \n",
       "|  7                                                                                                                                                                                                    | 1,2,1,5,5,1,11,16,7,1,23,44,30,9,1,47,112,104,48,11,1,95,272,320,200,70,13,1,191,640,912,720,340,96,15,1,383,1472,2464,2352,1400,532,126,17,1,767,3328,6400,7168,5152,2464,784,160,19,1,1535,7424     | \n",
       "|  8                                                                                                                                                                                                    | 1,2,4,5,8,10,16,20,32,40,64,80,128,160,256,320,512,640,1024,1280,2048,2560,4096,5120,8192,10240,16384,20480,32768,40960,65536,81920,131072,163840,262144,327680,524288,655360,1048576,1310720,2097152 | \n",
       "| 11                                                                                                                                                                                                    | 1,8,25,83,274,2275,132224,1060067,3312425,10997342,36304451,301432950,17519415551,140456757358,438889687625,1457125820233,4810267148324,39939263006825,2321287521544174,18610239435360217             | \n",
       "| 13                                                                                                                                                                                                    | 1,111,12211,1343211,147753211,16252853211,1787813853211,196659523853211,21632547623853211,2379580238623853211,261753826248623853211,28792920887348623853211                                           | \n",
       "| 15                                                                                                                                                                                                    | 1,1,1,1,1,1,1,1,1,5,1,1,1,1,5,5,1,1,1,1,11,5,5,11,5,1,1,1,1,5,23,5,23,5,5,1,1,1,1,21,5,39,5,5,39,5,21,5,1,1,1,1,5,1,17,1,17,1,1,5,1,1,1,1,31,5,5,29,1,1,29,1,5                                        | \n",
       "\n",
       "\n"
      ],
      "text/plain": [
       "  Id\n",
       "1  3\n",
       "2  7\n",
       "3  8\n",
       "4 11\n",
       "5 13\n",
       "6 15\n",
       "  Sequence                                                                                                                                                                                             \n",
       "1 1,3,13,87,1053,28576,2141733,508147108,402135275365,1073376057490373,9700385489355970183,298434346895322960005291,31479360095907908092817694945,11474377948948020660089085281068730                  \n",
       "2 1,2,1,5,5,1,11,16,7,1,23,44,30,9,1,47,112,104,48,11,1,95,272,320,200,70,13,1,191,640,912,720,340,96,15,1,383,1472,2464,2352,1400,532,126,17,1,767,3328,6400,7168,5152,2464,784,160,19,1,1535,7424    \n",
       "3 1,2,4,5,8,10,16,20,32,40,64,80,128,160,256,320,512,640,1024,1280,2048,2560,4096,5120,8192,10240,16384,20480,32768,40960,65536,81920,131072,163840,262144,327680,524288,655360,1048576,1310720,2097152\n",
       "4 1,8,25,83,274,2275,132224,1060067,3312425,10997342,36304451,301432950,17519415551,140456757358,438889687625,1457125820233,4810267148324,39939263006825,2321287521544174,18610239435360217            \n",
       "5 1,111,12211,1343211,147753211,16252853211,1787813853211,196659523853211,21632547623853211,2379580238623853211,261753826248623853211,28792920887348623853211                                          \n",
       "6 1,1,1,1,1,1,1,1,1,5,1,1,1,1,5,5,1,1,1,1,11,5,5,11,5,1,1,1,1,5,23,5,23,5,5,1,1,1,1,21,5,39,5,5,39,5,21,5,1,1,1,1,5,1,17,1,17,1,1,5,1,1,1,1,31,5,5,29,1,1,29,1,5                                       "
      ]
     },
     "metadata": {},
     "output_type": "display_data"
    }
   ],
   "source": [
    "head(train)"
   ]
  },
  {
   "cell_type": "code",
   "execution_count": 6,
   "metadata": {
    "collapsed": false
   },
   "outputs": [
    {
     "data": {
      "text/html": [
       "<ol class=list-inline>\n",
       "\t<li>'11474377948948020660089085281068730'</li>\n",
       "\t<li>'7424'</li>\n",
       "\t<li>'2097152'</li>\n",
       "\t<li>'18610239435360217'</li>\n",
       "\t<li>'28792920887348623853211'</li>\n",
       "\t<li>'5'</li>\n",
       "</ol>\n"
      ],
      "text/latex": [
       "\\begin{enumerate*}\n",
       "\\item '11474377948948020660089085281068730'\n",
       "\\item '7424'\n",
       "\\item '2097152'\n",
       "\\item '18610239435360217'\n",
       "\\item '28792920887348623853211'\n",
       "\\item '5'\n",
       "\\end{enumerate*}\n"
      ],
      "text/markdown": [
       "1. '11474377948948020660089085281068730'\n",
       "2. '7424'\n",
       "3. '2097152'\n",
       "4. '18610239435360217'\n",
       "5. '28792920887348623853211'\n",
       "6. '5'\n",
       "\n",
       "\n"
      ],
      "text/plain": [
       "[1] \"11474377948948020660089085281068730\" \"7424\"                               \n",
       "[3] \"2097152\"                             \"18610239435360217\"                  \n",
       "[5] \"28792920887348623853211\"             \"5\"                                  "
      ]
     },
     "metadata": {},
     "output_type": "display_data"
    }
   ],
   "source": [
    "finalElements <- sapply(sequences,tail,n=1)\n",
    "head(finalElements)"
   ]
  },
  {
   "cell_type": "code",
   "execution_count": 16,
   "metadata": {
    "collapsed": false
   },
   "outputs": [],
   "source": [
    "frequencies <- table(finalElements)\n",
    "library(ggplot2)"
   ]
  },
  {
   "cell_type": "code",
   "execution_count": 18,
   "metadata": {
    "collapsed": false
   },
   "outputs": [
    {
     "name": "stdout",
     "output_type": "stream",
     "text": [
      " 'table' int [1:64527(1d)] 246 9 5 1 1 1 1 1 2 1 ...\n",
      " - attr(*, \"dimnames\")=List of 1\n",
      "  ..$ finalElements: chr [1:64527] \"-1\" \"-10\" \"-100\" \"-100131389228\" ...\n"
     ]
    }
   ],
   "source": [
    "str(frequencies)"
   ]
  },
  {
   "cell_type": "code",
   "execution_count": 20,
   "metadata": {
    "collapsed": false
   },
   "outputs": [
    {
     "data": {
      "text/html": [
       "<strong>1:</strong> 2004"
      ],
      "text/latex": [
       "\\textbf{1:} 2004"
      ],
      "text/markdown": [
       "**1:** 2004"
      ],
      "text/plain": [
       "   1 \n",
       "2004 "
      ]
     },
     "metadata": {},
     "output_type": "display_data"
    }
   ],
   "source": [
    "index <- which.max(frequencies)\n",
    "index"
   ]
  },
  {
   "cell_type": "code",
   "execution_count": 76,
   "metadata": {
    "collapsed": false
   },
   "outputs": [
    {
     "data": {
      "text/html": [
       "'1'"
      ],
      "text/latex": [
       "'1'"
      ],
      "text/markdown": [
       "'1'"
      ],
      "text/plain": [
       "[1] \"1\""
      ]
     },
     "metadata": {},
     "output_type": "display_data"
    }
   ],
   "source": [
    "mostFrequentFinalElement <- names(frequencies)[index]\n",
    "mostFrequentFinalElement"
   ]
  },
  {
   "cell_type": "code",
   "execution_count": 71,
   "metadata": {
    "collapsed": false
   },
   "outputs": [
    {
     "data": {
      "text/html": [
       "<ol class=list-inline>\n",
       "\t<li>113845</li>\n",
       "\t<li>2</li>\n",
       "</ol>\n"
      ],
      "text/latex": [
       "\\begin{enumerate*}\n",
       "\\item 113845\n",
       "\\item 2\n",
       "\\end{enumerate*}\n"
      ],
      "text/markdown": [
       "1. 113845\n",
       "2. 2\n",
       "\n",
       "\n"
      ],
      "text/plain": [
       "[1] 113845      2"
      ]
     },
     "metadata": {},
     "output_type": "display_data"
    }
   ],
   "source": [
    "dim(train)"
   ]
  },
  {
   "cell_type": "code",
   "execution_count": 73,
   "metadata": {
    "collapsed": false
   },
   "outputs": [
    {
     "name": "stdout",
     "output_type": "stream",
     "text": [
      " int [1:56922] 33008 90160 46833 100480 106820 5228 60346 101489 63355 52075 ...\n"
     ]
    }
   ],
   "source": [
    "# Set the seed so this is reproducible across runs\n",
    "set.seed(123)\n",
    "# %/% is integer division\n",
    "trainingIndices <- c(\n",
    "  sample(which(finalElements==mostFrequentFinalElement),\n",
    "         size=sum(finalElements==mostFrequentFinalElement)%/%2,\n",
    "         replace=FALSE),\n",
    "  sample(which(finalElements!=mostFrequentFinalElement),\n",
    "         size=sum(finalElements!=mostFrequentFinalElement)%/%2,\n",
    "         replace=FALSE))\n",
    "\n",
    "testIndices <- setdiff(1:length(sequences),trainingIndices)\n",
    "str(trainingIndices)"
   ]
  },
  {
   "cell_type": "code",
   "execution_count": 37,
   "metadata": {
    "collapsed": false
   },
   "outputs": [
    {
     "name": "stdout",
     "output_type": "stream",
     "text": [
      " 'table' int [1:64527(1d)] 246 9 5 1 1 1 1 1 2 1 ...\n",
      " - attr(*, \"dimnames\")=List of 1\n",
      "  ..$ finalElements: chr [1:64527] \"-1\" \"-10\" \"-100\" \"-100131389228\" ...\n"
     ]
    }
   ],
   "source": [
    "str(frequencies)"
   ]
  },
  {
   "cell_type": "code",
   "execution_count": 38,
   "metadata": {
    "collapsed": true
   },
   "outputs": [],
   "source": [
    "features <- data.frame(\n",
    "  previousCount=sapply(sequences[trainingIndices],\n",
    "                       function(sequence)\n",
    "                       {\n",
    "                         sum(head(sequence,-1)==mostFrequentFinalElement)\n",
    "                       })\n",
    ")"
   ]
  },
  {
   "cell_type": "code",
   "execution_count": 42,
   "metadata": {
    "collapsed": false
   },
   "outputs": [
    {
     "data": {
      "text/html": [
       "<table>\n",
       "<thead><tr><th scope=col>previousCount</th></tr></thead>\n",
       "<tbody>\n",
       "\t<tr><td> 7</td></tr>\n",
       "\t<tr><td> 1</td></tr>\n",
       "\t<tr><td>21</td></tr>\n",
       "\t<tr><td>20</td></tr>\n",
       "\t<tr><td>52</td></tr>\n",
       "\t<tr><td> 9</td></tr>\n",
       "</tbody>\n",
       "</table>\n"
      ],
      "text/latex": [
       "\\begin{tabular}{r|l}\n",
       " previousCount\\\\\n",
       "\\hline\n",
       "\t  7\\\\\n",
       "\t  1\\\\\n",
       "\t 21\\\\\n",
       "\t 20\\\\\n",
       "\t 52\\\\\n",
       "\t  9\\\\\n",
       "\\end{tabular}\n"
      ],
      "text/markdown": [
       "\n",
       "previousCount | \n",
       "|---|---|---|---|---|---|\n",
       "|  7 | \n",
       "|  1 | \n",
       "| 21 | \n",
       "| 20 | \n",
       "| 52 | \n",
       "|  9 | \n",
       "\n",
       "\n"
      ],
      "text/plain": [
       "  previousCount\n",
       "1  7           \n",
       "2  1           \n",
       "3 21           \n",
       "4 20           \n",
       "5 52           \n",
       "6  9           "
      ]
     },
     "metadata": {},
     "output_type": "display_data"
    }
   ],
   "source": [
    "head(features)"
   ]
  },
  {
   "cell_type": "code",
   "execution_count": 43,
   "metadata": {
    "collapsed": true
   },
   "outputs": [],
   "source": [
    "maxCount <- max(features$previousCount)\n",
    "classProbabilities <- sapply(0:maxCount,\n",
    "                             function(count)\n",
    "                             {\n",
    "                               mean(finalElements[trainingIndices][features$previousCount==count]==mostFrequentFinalElement)\n",
    "                             })"
   ]
  },
  {
   "cell_type": "code",
   "execution_count": 45,
   "metadata": {
    "collapsed": false
   },
   "outputs": [
    {
     "data": {
      "text/html": [
       "<ol class=list-inline>\n",
       "\t<li>0.000722021660649819</li>\n",
       "\t<li>0.00215572550428579</li>\n",
       "\t<li>0.00288696424605818</li>\n",
       "\t<li>0.0191881918819188</li>\n",
       "\t<li>0.0419075144508671</li>\n",
       "\t<li>0.0436507936507936</li>\n",
       "</ol>\n"
      ],
      "text/latex": [
       "\\begin{enumerate*}\n",
       "\\item 0.000722021660649819\n",
       "\\item 0.00215572550428579\n",
       "\\item 0.00288696424605818\n",
       "\\item 0.0191881918819188\n",
       "\\item 0.0419075144508671\n",
       "\\item 0.0436507936507936\n",
       "\\end{enumerate*}\n"
      ],
      "text/markdown": [
       "1. 0.000722021660649819\n",
       "2. 0.00215572550428579\n",
       "3. 0.00288696424605818\n",
       "4. 0.0191881918819188\n",
       "5. 0.0419075144508671\n",
       "6. 0.0436507936507936\n",
       "\n",
       "\n"
      ],
      "text/plain": [
       "[1] 0.0007220217 0.0021557255 0.0028869642 0.0191881919 0.0419075145\n",
       "[6] 0.0436507937"
      ]
     },
     "metadata": {},
     "output_type": "display_data"
    }
   ],
   "source": [
    "head(classProbabilities)"
   ]
  },
  {
   "cell_type": "code",
   "execution_count": 47,
   "metadata": {
    "collapsed": false
   },
   "outputs": [
    {
     "data": {
      "image/png": "[encoded data removed]",
      "text/plain": [
       "plot without title"
      ]
     },
     "metadata": {},
     "output_type": "display_data"
    }
   ],
   "source": [
    "plot(x=0:maxCount,\n",
    "     y=classProbabilities,\n",
    "     ylab=paste0(\"Probability Final Element is \",mostFrequentFinalElement),\n",
    "     xlab=paste0(\"Number of \",mostFrequentFinalElement,\"s in the Sequence\"))"
   ]
  },
  {
   "cell_type": "code",
   "execution_count": 48,
   "metadata": {
    "collapsed": false
   },
   "outputs": [
    {
     "name": "stderr",
     "output_type": "stream",
     "text": [
      "Warning message in max(as.numeric(head(sequence, -1))):\n",
      "“max에 전달되는 인자들 중 누락이 있어 -Inf를 반환합니다”Warning message in max(as.numeric(head(sequence, -1))):\n",
      "“max에 전달되는 인자들 중 누락이 있어 -Inf를 반환합니다”Warning message in max(as.numeric(head(sequence, -1))):\n",
      "“max에 전달되는 인자들 중 누락이 있어 -Inf를 반환합니다”Warning message in max(as.numeric(head(sequence, -1))):\n",
      "“max에 전달되는 인자들 중 누락이 있어 -Inf를 반환합니다”Warning message in max(as.numeric(head(sequence, -1))):\n",
      "“max에 전달되는 인자들 중 누락이 있어 -Inf를 반환합니다”"
     ]
    }
   ],
   "source": [
    "features$max <- sapply(sequences[trainingIndices],\n",
    "                       function(sequence)\n",
    "                       {\n",
    "                         max(as.numeric(head(sequence,-1)))\n",
    "                       })"
   ]
  },
  {
   "cell_type": "code",
   "execution_count": 49,
   "metadata": {
    "collapsed": false
   },
   "outputs": [
    {
     "data": {
      "text/html": [
       "<table>\n",
       "<thead><tr><th scope=col>previousCount</th><th scope=col>max</th></tr></thead>\n",
       "<tbody>\n",
       "\t<tr><td> 7      </td><td>33292288</td></tr>\n",
       "\t<tr><td> 1      </td><td>     924</td></tr>\n",
       "\t<tr><td>21      </td><td>      11</td></tr>\n",
       "\t<tr><td>20      </td><td>       6</td></tr>\n",
       "\t<tr><td>52      </td><td>     252</td></tr>\n",
       "\t<tr><td> 9      </td><td>       9</td></tr>\n",
       "</tbody>\n",
       "</table>\n"
      ],
      "text/latex": [
       "\\begin{tabular}{r|ll}\n",
       " previousCount & max\\\\\n",
       "\\hline\n",
       "\t  7       & 33292288\\\\\n",
       "\t  1       &      924\\\\\n",
       "\t 21       &       11\\\\\n",
       "\t 20       &        6\\\\\n",
       "\t 52       &      252\\\\\n",
       "\t  9       &        9\\\\\n",
       "\\end{tabular}\n"
      ],
      "text/markdown": [
       "\n",
       "previousCount | max | \n",
       "|---|---|---|---|---|---|\n",
       "|  7       | 33292288 | \n",
       "|  1       |      924 | \n",
       "| 21       |       11 | \n",
       "| 20       |        6 | \n",
       "| 52       |      252 | \n",
       "|  9       |        9 | \n",
       "\n",
       "\n"
      ],
      "text/plain": [
       "  previousCount max     \n",
       "1  7            33292288\n",
       "2  1                 924\n",
       "3 21                  11\n",
       "4 20                   6\n",
       "5 52                 252\n",
       "6  9                   9"
      ]
     },
     "metadata": {},
     "output_type": "display_data"
    }
   ],
   "source": [
    "head(features)"
   ]
  },
  {
   "cell_type": "code",
   "execution_count": 50,
   "metadata": {
    "collapsed": true
   },
   "outputs": [],
   "source": [
    "buckets <- cut(features$max,quantile(features$max,seq(0,1,by=0.1)))"
   ]
  },
  {
   "cell_type": "code",
   "execution_count": 51,
   "metadata": {
    "collapsed": false
   },
   "outputs": [
    {
     "data": {
      "text/html": [
       "<ol class=list-inline>\n",
       "\t<li>(2.22e+07,6.23e+10]</li>\n",
       "\t<li>(512,3.45e+03]</li>\n",
       "\t<li>(-Inf,13]</li>\n",
       "\t<li>(-Inf,13]</li>\n",
       "\t<li>(115,512]</li>\n",
       "\t<li>(-Inf,13]</li>\n",
       "</ol>\n"
      ],
      "text/latex": [
       "\\begin{enumerate*}\n",
       "\\item (2.22e+07,6.23e+10{]}\n",
       "\\item (512,3.45e+03{]}\n",
       "\\item (-Inf,13{]}\n",
       "\\item (-Inf,13{]}\n",
       "\\item (115,512{]}\n",
       "\\item (-Inf,13{]}\n",
       "\\end{enumerate*}\n"
      ],
      "text/markdown": [
       "1. (2.22e+07,6.23e+10]\n",
       "2. (512,3.45e+03]\n",
       "3. (-Inf,13]\n",
       "4. (-Inf,13]\n",
       "5. (115,512]\n",
       "6. (-Inf,13]\n",
       "\n",
       "\n"
      ],
      "text/plain": [
       "[1] (2.22e+07,6.23e+10] (512,3.45e+03]      (-Inf,13]          \n",
       "[4] (-Inf,13]           (115,512]           (-Inf,13]          \n",
       "10 Levels: (-Inf,13] (13,115] (115,512] (512,3.45e+03] ... (8.6e+19,3.12e+144]"
      ]
     },
     "metadata": {},
     "output_type": "display_data"
    }
   ],
   "source": [
    "head(buckets)"
   ]
  },
  {
   "cell_type": "code",
   "execution_count": 52,
   "metadata": {
    "collapsed": true
   },
   "outputs": [],
   "source": [
    "classProbabilities <- sapply(split(finalElements[trainingIndices],buckets),\n",
    "                             function(finalElementsByBucket)\n",
    "                             {\n",
    "                               mean(finalElementsByBucket==mostFrequentFinalElement)\n",
    "                             })"
   ]
  },
  {
   "cell_type": "code",
   "execution_count": 53,
   "metadata": {
    "collapsed": false
   },
   "outputs": [
    {
     "data": {
      "image/png": "[encoded data removed]",
      "text/plain": [
       "plot without title"
      ]
     },
     "metadata": {},
     "output_type": "display_data"
    }
   ],
   "source": [
    "par(mar=c(12,4,4,2)+0.1)\n",
    "plot(x=1:10,\n",
    "     xaxt=\"n\",\n",
    "     y=classProbabilities,\n",
    "     ylab=paste0(\"Probability Final Element is \",mostFrequentFinalElement),\n",
    "     xlab=\"\",las=2)\n",
    "\n",
    "axis(side=1,at=1:10,labels=levels(buckets),las=2)\n",
    "title(xlab=paste0(\"Sequence Maximum (Bucketed)\"),line=10)"
   ]
  },
  {
   "cell_type": "code",
   "execution_count": 54,
   "metadata": {
    "collapsed": true
   },
   "outputs": [],
   "source": [
    "features$anyNegatives <- sapply(sequences[trainingIndices],\n",
    "                                function(sequence)\n",
    "                                {\n",
    "                                  any(grepl(\"-\",head(sequence,-1)))\n",
    "                                })"
   ]
  },
  {
   "cell_type": "code",
   "execution_count": 55,
   "metadata": {
    "collapsed": false
   },
   "outputs": [
    {
     "data": {
      "text/html": [
       "<table>\n",
       "<thead><tr><th scope=col>previousCount</th><th scope=col>max</th><th scope=col>anyNegatives</th></tr></thead>\n",
       "<tbody>\n",
       "\t<tr><td> 7      </td><td>33292288</td><td>FALSE   </td></tr>\n",
       "\t<tr><td> 1      </td><td>     924</td><td>FALSE   </td></tr>\n",
       "\t<tr><td>21      </td><td>      11</td><td>FALSE   </td></tr>\n",
       "\t<tr><td>20      </td><td>       6</td><td> TRUE   </td></tr>\n",
       "\t<tr><td>52      </td><td>     252</td><td>FALSE   </td></tr>\n",
       "\t<tr><td> 9      </td><td>       9</td><td>FALSE   </td></tr>\n",
       "</tbody>\n",
       "</table>\n"
      ],
      "text/latex": [
       "\\begin{tabular}{r|lll}\n",
       " previousCount & max & anyNegatives\\\\\n",
       "\\hline\n",
       "\t  7       & 33292288 & FALSE   \\\\\n",
       "\t  1       &      924 & FALSE   \\\\\n",
       "\t 21       &       11 & FALSE   \\\\\n",
       "\t 20       &        6 &  TRUE   \\\\\n",
       "\t 52       &      252 & FALSE   \\\\\n",
       "\t  9       &        9 & FALSE   \\\\\n",
       "\\end{tabular}\n"
      ],
      "text/markdown": [
       "\n",
       "previousCount | max | anyNegatives | \n",
       "|---|---|---|---|---|---|\n",
       "|  7       | 33292288 | FALSE    | \n",
       "|  1       |      924 | FALSE    | \n",
       "| 21       |       11 | FALSE    | \n",
       "| 20       |        6 |  TRUE    | \n",
       "| 52       |      252 | FALSE    | \n",
       "|  9       |        9 | FALSE    | \n",
       "\n",
       "\n"
      ],
      "text/plain": [
       "  previousCount max      anyNegatives\n",
       "1  7            33292288 FALSE       \n",
       "2  1                 924 FALSE       \n",
       "3 21                  11 FALSE       \n",
       "4 20                   6  TRUE       \n",
       "5 52                 252 FALSE       \n",
       "6  9                   9 FALSE       "
      ]
     },
     "metadata": {},
     "output_type": "display_data"
    }
   ],
   "source": [
    "head(features)"
   ]
  },
  {
   "cell_type": "code",
   "execution_count": 56,
   "metadata": {
    "collapsed": true
   },
   "outputs": [],
   "source": [
    "classProbabilities <- c(mean(finalElements[trainingIndices][features$anyNegatives]==mostFrequentFinalElement),\n",
    "                        mean(finalElements[trainingIndices][!features$anyNegatives]==mostFrequentFinalElement))\n"
   ]
  },
  {
   "cell_type": "code",
   "execution_count": 57,
   "metadata": {
    "collapsed": false
   },
   "outputs": [
    {
     "data": {
      "image/png": "[encoded data removed]",
      "text/plain": [
       "plot without title"
      ]
     },
     "metadata": {},
     "output_type": "display_data"
    }
   ],
   "source": [
    "plot(x=1:2,\n",
    "     y=classProbabilities,\n",
    "     ylab=paste0(\"Probability Final Element is \",mostFrequentFinalElement),\n",
    "     xlab=\"Is There a Negative Value in the Sequence?\",\n",
    "     xaxt=\"n\")\n",
    "axis(side=1,at=1:2,labels=c(\"Yes\",\"No\"))"
   ]
  },
  {
   "cell_type": "markdown",
   "metadata": {},
   "source": [
    "- The class frequency is almost double when there is at least one negative value in the sequence.\n",
    "\n",
    "- Now we’ll fit a logistic regression based on these three features. First, based on the visualisation of the relationship between sequence maximum and class probability, we’ll replace that feature with four categories:\n",
    "\n",
    "```\n",
    "Max is 13 or less\n",
    "Max is 14 - 115, inclusive\n",
    "Max is 116 - 512 inclusive\n",
    "Max is 513 or greater\n",
    "```"
   ]
  },
  {
   "cell_type": "code",
   "execution_count": 58,
   "metadata": {
    "collapsed": true
   },
   "outputs": [],
   "source": [
    "features$maxBucketed <- \"13 or less\"\n",
    "features$maxBucketed[features$max>=14 & features$max<=115] <- \"14 - 115\"\n",
    "features$maxBucketed[features$max>=116 & features$max<=512] <- \"116 - 512\"\n",
    "features$maxBucketed[features$max>=513] <- \"513 or greater\""
   ]
  },
  {
   "cell_type": "code",
   "execution_count": 103,
   "metadata": {
    "collapsed": true
   },
   "outputs": [],
   "source": [
    "features$maxBucketed <- factor(features$maxBucketed,\n",
    "                               levels=c(\"13 or less\",\n",
    "                                        \"14 - 115\",\n",
    "                                        \"116 - 512\",\n",
    "                                        \"513 or greater\"))"
   ]
  },
  {
   "cell_type": "code",
   "execution_count": 104,
   "metadata": {
    "collapsed": false
   },
   "outputs": [
    {
     "data": {
      "text/html": [
       "<table>\n",
       "<thead><tr><th scope=col>previousCount</th><th scope=col>max</th><th scope=col>anyNegatives</th><th scope=col>maxBucketed</th><th scope=col>class</th></tr></thead>\n",
       "<tbody>\n",
       "\t<tr><td> 7            </td><td>33292288      </td><td>FALSE         </td><td>513 or greater</td><td>FALSE         </td></tr>\n",
       "\t<tr><td> 1            </td><td>     924      </td><td>FALSE         </td><td>513 or greater</td><td>FALSE         </td></tr>\n",
       "\t<tr><td>21            </td><td>      11      </td><td>FALSE         </td><td>13 or less    </td><td>FALSE         </td></tr>\n",
       "\t<tr><td>20            </td><td>       6      </td><td> TRUE         </td><td>13 or less    </td><td>FALSE         </td></tr>\n",
       "\t<tr><td>52            </td><td>     252      </td><td>FALSE         </td><td>116 - 512     </td><td>FALSE         </td></tr>\n",
       "\t<tr><td> 9            </td><td>       9      </td><td>FALSE         </td><td>13 or less    </td><td>FALSE         </td></tr>\n",
       "</tbody>\n",
       "</table>\n"
      ],
      "text/latex": [
       "\\begin{tabular}{r|lllll}\n",
       " previousCount & max & anyNegatives & maxBucketed & class\\\\\n",
       "\\hline\n",
       "\t  7             & 33292288       & FALSE          & 513 or greater & FALSE         \\\\\n",
       "\t  1             &      924       & FALSE          & 513 or greater & FALSE         \\\\\n",
       "\t 21             &       11       & FALSE          & 13 or less     & FALSE         \\\\\n",
       "\t 20             &        6       &  TRUE          & 13 or less     & FALSE         \\\\\n",
       "\t 52             &      252       & FALSE          & 116 - 512      & FALSE         \\\\\n",
       "\t  9             &        9       & FALSE          & 13 or less     & FALSE         \\\\\n",
       "\\end{tabular}\n"
      ],
      "text/markdown": [
       "\n",
       "previousCount | max | anyNegatives | maxBucketed | class | \n",
       "|---|---|---|---|---|---|\n",
       "|  7             | 33292288       | FALSE          | 513 or greater | FALSE          | \n",
       "|  1             |      924       | FALSE          | 513 or greater | FALSE          | \n",
       "| 21             |       11       | FALSE          | 13 or less     | FALSE          | \n",
       "| 20             |        6       |  TRUE          | 13 or less     | FALSE          | \n",
       "| 52             |      252       | FALSE          | 116 - 512      | FALSE          | \n",
       "|  9             |        9       | FALSE          | 13 or less     | FALSE          | \n",
       "\n",
       "\n"
      ],
      "text/plain": [
       "  previousCount max      anyNegatives maxBucketed    class\n",
       "1  7            33292288 FALSE        513 or greater FALSE\n",
       "2  1                 924 FALSE        513 or greater FALSE\n",
       "3 21                  11 FALSE        13 or less     FALSE\n",
       "4 20                   6  TRUE        13 or less     FALSE\n",
       "5 52                 252 FALSE        116 - 512      FALSE\n",
       "6  9                   9 FALSE        13 or less     FALSE"
      ]
     },
     "metadata": {},
     "output_type": "display_data"
    }
   ],
   "source": [
    "head(features)"
   ]
  },
  {
   "cell_type": "code",
   "execution_count": 102,
   "metadata": {
    "collapsed": false
   },
   "outputs": [
    {
     "data": {
      "text/plain": [
       "\n",
       "Call:\n",
       "glm(formula = class ~ previousCount + maxBucketed + anyNegatives, \n",
       "    family = \"binomial\", data = features)\n",
       "\n",
       "Deviance Residuals: \n",
       "    Min       1Q   Median       3Q      Max  \n",
       "-0.2662  -0.2315  -0.2315  -0.2314   2.7083  \n",
       "\n",
       "Coefficients:\n",
       "                            Estimate Std. Error z value Pr(>|z|)    \n",
       "(Intercept)               -3.4758837  0.0781194 -44.494   <2e-16 ***\n",
       "previousCount             -0.0004002  0.0033675  -0.119    0.905    \n",
       "maxBucketed13 or less     -0.1327247  0.1232402  -1.077    0.281    \n",
       "maxBucketed14 - 115       -0.1125154  0.1136104  -0.990    0.322    \n",
       "maxBucketed513 or greater -0.1302137  0.0837821  -1.554    0.120    \n",
       "anyNegativesTRUE           0.1535441  0.1067080   1.439    0.150    \n",
       "---\n",
       "Signif. codes:  0 ‘***’ 0.001 ‘**’ 0.01 ‘*’ 0.05 ‘.’ 0.1 ‘ ’ 1\n",
       "\n",
       "(Dispersion parameter for binomial family taken to be 1)\n",
       "\n",
       "    Null deviance: 14149  on 56921  degrees of freedom\n",
       "Residual deviance: 14145  on 56916  degrees of freedom\n",
       "AIC: 14157\n",
       "\n",
       "Number of Fisher Scoring iterations: 6\n"
      ]
     },
     "metadata": {},
     "output_type": "display_data"
    }
   ],
   "source": [
    "features$class <- finalElements[trainingIndices]==mostFrequentFinalElement\n",
    "fit <- glm(class~previousCount+maxBucketed+anyNegatives,family=\"binomial\",data=features)\n",
    "summary(fit)"
   ]
  },
  {
   "cell_type": "code",
   "execution_count": 64,
   "metadata": {
    "collapsed": false
   },
   "outputs": [
    {
     "name": "stdout",
     "output_type": "stream",
     "text": [
      "\n",
      "The downloaded binary packages are in\n",
      "\t/var/folders/b1/6r6n8ptx4r9cq1rvs075k7j00000gn/T//RtmpPpjkJh/downloaded_packages\n"
     ]
    }
   ],
   "source": [
    "#install.packages('AUC')"
   ]
  },
  {
   "cell_type": "code",
   "execution_count": 65,
   "metadata": {
    "collapsed": false
   },
   "outputs": [
    {
     "name": "stderr",
     "output_type": "stream",
     "text": [
      "AUC 0.3.0\n",
      "Type AUCNews() to see the change log and ?AUC to get an overview.\n"
     ]
    }
   ],
   "source": [
    "library(AUC)"
   ]
  },
  {
   "cell_type": "code",
   "execution_count": 67,
   "metadata": {
    "collapsed": false
   },
   "outputs": [
    {
     "data": {
      "text/html": [
       "0.931453622178265"
      ],
      "text/latex": [
       "0.931453622178265"
      ],
      "text/markdown": [
       "0.931453622178265"
      ],
      "text/plain": [
       "[1] 0.9314536"
      ]
     },
     "metadata": {},
     "output_type": "display_data"
    }
   ],
   "source": [
    "features$maxBucketed <- \"13 or less\"\n",
    "features$maxBucketed[features$max>=14 & features$max<=115] <- \"14 - 115\"\n",
    "features$maxBucketed[features$max>=116 & features$max<=512] <- \"116 - 512\"\n",
    "features$maxBucketed[features$max>=513] <- \"513 or greater\"\n",
    "\n",
    "# Define the levels manually so we capture the ordering\n",
    "features$maxBucketed <- factor(features$maxBucketed,\n",
    "                               levels=c(\"13 or less\",\n",
    "                                        \"14 - 115\",\n",
    "                                        \"116 - 512\",\n",
    "                                        \"513 or greater\"))\n",
    "\n",
    "predictions <- predict(fit,newdata=features,type=\"response\")\n",
    "\n",
    "auc(roc(predictions,factor(features$class)))"
   ]
  },
  {
   "cell_type": "code",
   "execution_count": 68,
   "metadata": {
    "collapsed": false
   },
   "outputs": [
    {
     "data": {
      "image/png": "[encoded data removed]",
      "text/plain": [
       "plot without title"
      ]
     },
     "metadata": {},
     "output_type": "display_data"
    }
   ],
   "source": [
    "plot(roc(predictions,factor(features$class)))"
   ]
  },
  {
   "cell_type": "code",
   "execution_count": 75,
   "metadata": {
    "collapsed": true
   },
   "outputs": [],
   "source": [
    "# Load the Data\n",
    "test <- read.csv(\"test.csv\",stringsAsFactors=FALSE)\n",
    "sequences <- strsplit(test$Sequence,split=\",\")\n",
    "finalElements <- sapply(sequences,tail,n=1)"
   ]
  },
  {
   "cell_type": "code",
   "execution_count": 78,
   "metadata": {
    "collapsed": false
   },
   "outputs": [],
   "source": [
    "trainingIndices2 <- c(\n",
    "  sample(which(finalElements==mostFrequentFinalElement),\n",
    "         size=sum(finalElements==mostFrequentFinalElement)%/%2,\n",
    "         replace=FALSE),\n",
    "  sample(which(finalElements!=mostFrequentFinalElement),\n",
    "         size=sum(finalElements!=mostFrequentFinalElement)%/%2,\n",
    "         replace=FALSE))"
   ]
  },
  {
   "cell_type": "code",
   "execution_count": 82,
   "metadata": {
    "collapsed": false
   },
   "outputs": [
    {
     "data": {
      "text/html": [
       "<ol class=list-inline>\n",
       "\t<li>60782</li>\n",
       "\t<li>96981</li>\n",
       "\t<li>101808</li>\n",
       "\t<li>92452</li>\n",
       "\t<li>69727</li>\n",
       "\t<li>109646</li>\n",
       "</ol>\n"
      ],
      "text/latex": [
       "\\begin{enumerate*}\n",
       "\\item 60782\n",
       "\\item 96981\n",
       "\\item 101808\n",
       "\\item 92452\n",
       "\\item 69727\n",
       "\\item 109646\n",
       "\\end{enumerate*}\n"
      ],
      "text/markdown": [
       "1. 60782\n",
       "2. 96981\n",
       "3. 101808\n",
       "4. 92452\n",
       "5. 69727\n",
       "6. 109646\n",
       "\n",
       "\n"
      ],
      "text/plain": [
       "[1]  60782  96981 101808  92452  69727 109646"
      ]
     },
     "metadata": {},
     "output_type": "display_data"
    }
   ],
   "source": [
    "head(trainingIndices2)"
   ]
  },
  {
   "cell_type": "code",
   "execution_count": 81,
   "metadata": {
    "collapsed": false
   },
   "outputs": [
    {
     "data": {
      "text/html": [
       "<ol class=list-inline>\n",
       "\t<li>113845</li>\n",
       "\t<li>2</li>\n",
       "</ol>\n"
      ],
      "text/latex": [
       "\\begin{enumerate*}\n",
       "\\item 113845\n",
       "\\item 2\n",
       "\\end{enumerate*}\n"
      ],
      "text/markdown": [
       "1. 113845\n",
       "2. 2\n",
       "\n",
       "\n"
      ],
      "text/plain": [
       "[1] 113845      2"
      ]
     },
     "metadata": {},
     "output_type": "display_data"
    }
   ],
   "source": [
    "dim(test)"
   ]
  },
  {
   "cell_type": "code",
   "execution_count": 83,
   "metadata": {
    "collapsed": true
   },
   "outputs": [],
   "source": [
    "features_test <- data.frame(\n",
    "  previousCount=sapply(sequences,\n",
    "                       function(sequence)\n",
    "                       {\n",
    "                         sum(head(sequence,-1)==mostFrequentFinalElement)\n",
    "                       })\n",
    ")"
   ]
  },
  {
   "cell_type": "code",
   "execution_count": 85,
   "metadata": {
    "collapsed": false
   },
   "outputs": [
    {
     "data": {
      "text/html": [
       "<table>\n",
       "<thead><tr><th scope=col>previousCount</th></tr></thead>\n",
       "<tbody>\n",
       "\t<tr><td>1</td></tr>\n",
       "\t<tr><td>2</td></tr>\n",
       "\t<tr><td>1</td></tr>\n",
       "\t<tr><td>1</td></tr>\n",
       "\t<tr><td>2</td></tr>\n",
       "\t<tr><td>0</td></tr>\n",
       "</tbody>\n",
       "</table>\n"
      ],
      "text/latex": [
       "\\begin{tabular}{r|l}\n",
       " previousCount\\\\\n",
       "\\hline\n",
       "\t 1\\\\\n",
       "\t 2\\\\\n",
       "\t 1\\\\\n",
       "\t 1\\\\\n",
       "\t 2\\\\\n",
       "\t 0\\\\\n",
       "\\end{tabular}\n"
      ],
      "text/markdown": [
       "\n",
       "previousCount | \n",
       "|---|---|---|---|---|---|\n",
       "| 1 | \n",
       "| 2 | \n",
       "| 1 | \n",
       "| 1 | \n",
       "| 2 | \n",
       "| 0 | \n",
       "\n",
       "\n"
      ],
      "text/plain": [
       "  previousCount\n",
       "1 1            \n",
       "2 2            \n",
       "3 1            \n",
       "4 1            \n",
       "5 2            \n",
       "6 0            "
      ]
     },
     "metadata": {},
     "output_type": "display_data"
    }
   ],
   "source": [
    "head(features_test)"
   ]
  },
  {
   "cell_type": "code",
   "execution_count": 88,
   "metadata": {
    "collapsed": true
   },
   "outputs": [],
   "source": [
    "features_test$max <- sapply(sequences,\n",
    "                       function(sequence)\n",
    "                       {\n",
    "                         max(as.numeric(head(sequence,-1)))\n",
    "                       })"
   ]
  },
  {
   "cell_type": "code",
   "execution_count": 89,
   "metadata": {
    "collapsed": false
   },
   "outputs": [
    {
     "data": {
      "text/html": [
       "<table>\n",
       "<thead><tr><th scope=col>previousCount</th><th scope=col>max</th></tr></thead>\n",
       "<tbody>\n",
       "\t<tr><td>1          </td><td> 5792853248</td></tr>\n",
       "\t<tr><td>2          </td><td>91602704493</td></tr>\n",
       "\t<tr><td>1          </td><td>        160</td></tr>\n",
       "\t<tr><td>1          </td><td>        494</td></tr>\n",
       "\t<tr><td>2          </td><td>        125</td></tr>\n",
       "\t<tr><td>0          </td><td>       1400</td></tr>\n",
       "</tbody>\n",
       "</table>\n"
      ],
      "text/latex": [
       "\\begin{tabular}{r|ll}\n",
       " previousCount & max\\\\\n",
       "\\hline\n",
       "\t 1           &  5792853248\\\\\n",
       "\t 2           & 91602704493\\\\\n",
       "\t 1           &         160\\\\\n",
       "\t 1           &         494\\\\\n",
       "\t 2           &         125\\\\\n",
       "\t 0           &        1400\\\\\n",
       "\\end{tabular}\n"
      ],
      "text/markdown": [
       "\n",
       "previousCount | max | \n",
       "|---|---|---|---|---|---|\n",
       "| 1           |  5792853248 | \n",
       "| 2           | 91602704493 | \n",
       "| 1           |         160 | \n",
       "| 1           |         494 | \n",
       "| 2           |         125 | \n",
       "| 0           |        1400 | \n",
       "\n",
       "\n"
      ],
      "text/plain": [
       "  previousCount max        \n",
       "1 1              5792853248\n",
       "2 2             91602704493\n",
       "3 1                     160\n",
       "4 1                     494\n",
       "5 2                     125\n",
       "6 0                    1400"
      ]
     },
     "metadata": {},
     "output_type": "display_data"
    }
   ],
   "source": [
    "head(features_test)"
   ]
  },
  {
   "cell_type": "code",
   "execution_count": 91,
   "metadata": {
    "collapsed": true
   },
   "outputs": [],
   "source": [
    "features_test$maxBucketed <- \"13 or less\"\n",
    "features_test$maxBucketed[features_test$max>=14 & features_test$max<=115] <- \"14 - 115\"\n",
    "features_test$maxBucketed[features_test$max>=116 & features_test$max<=512] <- \"116 - 512\"\n",
    "features_test$maxBucketed[features_test$max>=513] <- \"513 or greater\""
   ]
  },
  {
   "cell_type": "code",
   "execution_count": 93,
   "metadata": {
    "collapsed": true
   },
   "outputs": [],
   "source": [
    "features_test$anyNegatives <- sapply(sequences,\n",
    "                                function(sequence)\n",
    "                                {\n",
    "                                  any(grepl(\"-\",head(sequence,-1)))\n",
    "                                })"
   ]
  },
  {
   "cell_type": "code",
   "execution_count": 94,
   "metadata": {
    "collapsed": false
   },
   "outputs": [
    {
     "data": {
      "text/html": [
       "<table>\n",
       "<thead><tr><th scope=col>previousCount</th><th scope=col>max</th><th scope=col>maxBucketed</th><th scope=col>anyNegatives</th></tr></thead>\n",
       "<tbody>\n",
       "\t<tr><td>1             </td><td> 5792853248   </td><td>513 or greater</td><td>FALSE         </td></tr>\n",
       "\t<tr><td>2             </td><td>91602704493   </td><td>513 or greater</td><td>FALSE         </td></tr>\n",
       "\t<tr><td>1             </td><td>        160   </td><td>116 - 512     </td><td>FALSE         </td></tr>\n",
       "\t<tr><td>1             </td><td>        494   </td><td>116 - 512     </td><td>FALSE         </td></tr>\n",
       "\t<tr><td>2             </td><td>        125   </td><td>116 - 512     </td><td>FALSE         </td></tr>\n",
       "\t<tr><td>0             </td><td>       1400   </td><td>513 or greater</td><td>FALSE         </td></tr>\n",
       "</tbody>\n",
       "</table>\n"
      ],
      "text/latex": [
       "\\begin{tabular}{r|llll}\n",
       " previousCount & max & maxBucketed & anyNegatives\\\\\n",
       "\\hline\n",
       "\t 1              &  5792853248    & 513 or greater & FALSE         \\\\\n",
       "\t 2              & 91602704493    & 513 or greater & FALSE         \\\\\n",
       "\t 1              &         160    & 116 - 512      & FALSE         \\\\\n",
       "\t 1              &         494    & 116 - 512      & FALSE         \\\\\n",
       "\t 2              &         125    & 116 - 512      & FALSE         \\\\\n",
       "\t 0              &        1400    & 513 or greater & FALSE         \\\\\n",
       "\\end{tabular}\n"
      ],
      "text/markdown": [
       "\n",
       "previousCount | max | maxBucketed | anyNegatives | \n",
       "|---|---|---|---|---|---|\n",
       "| 1              |  5792853248    | 513 or greater | FALSE          | \n",
       "| 2              | 91602704493    | 513 or greater | FALSE          | \n",
       "| 1              |         160    | 116 - 512      | FALSE          | \n",
       "| 1              |         494    | 116 - 512      | FALSE          | \n",
       "| 2              |         125    | 116 - 512      | FALSE          | \n",
       "| 0              |        1400    | 513 or greater | FALSE          | \n",
       "\n",
       "\n"
      ],
      "text/plain": [
       "  previousCount max         maxBucketed    anyNegatives\n",
       "1 1              5792853248 513 or greater FALSE       \n",
       "2 2             91602704493 513 or greater FALSE       \n",
       "3 1                     160 116 - 512      FALSE       \n",
       "4 1                     494 116 - 512      FALSE       \n",
       "5 2                     125 116 - 512      FALSE       \n",
       "6 0                    1400 513 or greater FALSE       "
      ]
     },
     "metadata": {},
     "output_type": "display_data"
    }
   ],
   "source": [
    "head(features_test)"
   ]
  },
  {
   "cell_type": "code",
   "execution_count": 96,
   "metadata": {
    "collapsed": true
   },
   "outputs": [],
   "source": [
    "features_test$maxBucketed <- factor(features_test$maxBucketed,\n",
    "                               levels=c(\"13 or less\",\n",
    "                                        \"14 - 115\",\n",
    "                                        \"116 - 512\",\n",
    "                                        \"513 or greater\"))\n",
    "\n",
    "predictions <- predict(fit,newdata=features_test,type=\"response\")"
   ]
  },
  {
   "cell_type": "code",
   "execution_count": 98,
   "metadata": {
    "collapsed": false
   },
   "outputs": [
    {
     "data": {
      "text/html": [
       "<dl class=dl-horizontal>\n",
       "\t<dt>1</dt>\n",
       "\t\t<dd>0.00972311793068813</dd>\n",
       "\t<dt>2</dt>\n",
       "\t\t<dd>0.0105983298099668</dd>\n",
       "\t<dt>3</dt>\n",
       "\t\t<dd>0.0224993879172521</dd>\n",
       "\t<dt>4</dt>\n",
       "\t\t<dd>0.0224993879172521</dd>\n",
       "\t<dt>5</dt>\n",
       "\t\t<dd>0.0244961884572517</dd>\n",
       "\t<dt>6</dt>\n",
       "\t\t<dd>0.00891952963152439</dd>\n",
       "</dl>\n"
      ],
      "text/latex": [
       "\\begin{description*}\n",
       "\\item[1] 0.00972311793068813\n",
       "\\item[2] 0.0105983298099668\n",
       "\\item[3] 0.0224993879172521\n",
       "\\item[4] 0.0224993879172521\n",
       "\\item[5] 0.0244961884572517\n",
       "\\item[6] 0.00891952963152439\n",
       "\\end{description*}\n"
      ],
      "text/markdown": [
       "1\n",
       ":   0.009723117930688132\n",
       ":   0.01059832980996683\n",
       ":   0.02249938791725214\n",
       ":   0.02249938791725215\n",
       ":   0.02449618845725176\n",
       ":   0.00891952963152439\n",
       "\n"
      ],
      "text/plain": [
       "          1           2           3           4           5           6 \n",
       "0.009723118 0.010598330 0.022499388 0.022499388 0.024496188 0.008919530 "
      ]
     },
     "metadata": {},
     "output_type": "display_data"
    }
   ],
   "source": [
    "head(predictions)"
   ]
  },
  {
   "cell_type": "code",
   "execution_count": 99,
   "metadata": {
    "collapsed": true
   },
   "outputs": [],
   "source": [
    "submissinon <- read.csv(\"sample_submission.csv\", header=T, stringsAsFactors=F)"
   ]
  },
  {
   "cell_type": "code",
   "execution_count": 105,
   "metadata": {
    "collapsed": false
   },
   "outputs": [
    {
     "data": {
      "text/html": [
       "<table>\n",
       "<thead><tr><th scope=col>Id</th><th scope=col>Last</th></tr></thead>\n",
       "<tbody>\n",
       "\t<tr><td>1</td><td>0</td></tr>\n",
       "\t<tr><td>2</td><td>0</td></tr>\n",
       "\t<tr><td>4</td><td>0</td></tr>\n",
       "\t<tr><td>5</td><td>0</td></tr>\n",
       "\t<tr><td>6</td><td>0</td></tr>\n",
       "\t<tr><td>9</td><td>0</td></tr>\n",
       "</tbody>\n",
       "</table>\n"
      ],
      "text/latex": [
       "\\begin{tabular}{r|ll}\n",
       " Id & Last\\\\\n",
       "\\hline\n",
       "\t 1 & 0\\\\\n",
       "\t 2 & 0\\\\\n",
       "\t 4 & 0\\\\\n",
       "\t 5 & 0\\\\\n",
       "\t 6 & 0\\\\\n",
       "\t 9 & 0\\\\\n",
       "\\end{tabular}\n"
      ],
      "text/markdown": [
       "\n",
       "Id | Last | \n",
       "|---|---|---|---|---|---|\n",
       "| 1 | 0 | \n",
       "| 2 | 0 | \n",
       "| 4 | 0 | \n",
       "| 5 | 0 | \n",
       "| 6 | 0 | \n",
       "| 9 | 0 | \n",
       "\n",
       "\n"
      ],
      "text/plain": [
       "  Id Last\n",
       "1 1  0   \n",
       "2 2  0   \n",
       "3 4  0   \n",
       "4 5  0   \n",
       "5 6  0   \n",
       "6 9  0   "
      ]
     },
     "metadata": {},
     "output_type": "display_data"
    }
   ],
   "source": [
    "head(submissinon)"
   ]
  },
  {
   "cell_type": "code",
   "execution_count": 114,
   "metadata": {
    "collapsed": true
   },
   "outputs": [],
   "source": [
    "# 우리는 더 깊이 가야 해! 이제는 이전 값을 많이 사용합니다!\n",
    "# 하이퍼 파라미터 최적화를위한 예제 코드 추가\n",
    "#\n",
    "#이 스크립트에서는 이전 N 값을 사용하여 다음 시퀀스를 예측하기 위해 선형 모델을 각 시퀀스에 맞 춥니 다.\n",
    "# 선형 모델이 시퀀스에 얼마나 잘 맞는지 평가하고 적합도가 좋지 않은 경우 예측으로 모드를 사용합니다.\n",
    "#\n",
    "# 이전 버전의 스크립트는 2 차 모델을 실험했지만 수치적인 문제가 많았습니다.\n",
    "\n",
    "#Linear Models (0.13972+)\n",
    "library(plyr)\n",
    "\n",
    "Mode <- function(x)\n",
    "{\n",
    "  ux <- unique(x)\n",
    "  ux[which.max(tabulate(match(x, ux)))]\n",
    "}"
   ]
  },
  {
   "cell_type": "code",
   "execution_count": 115,
   "metadata": {
    "collapsed": true
   },
   "outputs": [],
   "source": [
    "# 시퀀스의 이전 <numberOfPoints> 요소를 기반으로 선형 모델에 맞춥니다.\n",
    "# <forSubmission>이 true이면 모든 데이터가 사용되며 제출에 적합한 예측 벡터가 반환됩니다\n",
    "# 그렇지 않으면 시퀀스의 마지막 요소가 샘플 밖의 테스트로 유지되고 적합을 요약하는 데이터 프레임이 반환됩니다\n",
    "# <modeFallbackThreshold>는 제출을 생성하여 예측으로 모드를 사용할 때를 결정할 때 사용됩니다.\n",
    "\n",
    "fitModel <- function(sequence,numberOfPoints,forSubmission=FALSE,modeFallbackThreshold)\n",
    "{\n",
    "  # Convert to a vector of numbers\n",
    "  sequence <- as.numeric(strsplit(sequence,split=\",\")[[1]])\n",
    "  if(!forSubmission)\n",
    "  {\n",
    "    oos <- tail(sequence,1)\n",
    "    sequence <- head(sequence,-1)\n",
    "  }\n",
    "  \n",
    "  # Need at least <numberOfPoints>+1 observations to fit the model, otherwise just return the last value\n",
    "  if(length(sequence)<=numberOfPoints)\n",
    "  {\n",
    "    if(length(sequence)==0)\n",
    "    {\n",
    "      prediction <- NA\n",
    "    }\n",
    "    else\n",
    "    {\n",
    "      prediction <- tail(sequence,1)\n",
    "    }\n",
    "    mae <- NA\n",
    "  }\n",
    "  else\n",
    "  {\n",
    "    df <- data.frame(y=tail(sequence,-numberOfPoints))\n",
    "    formulaString <- \"y~\"\n",
    "    for(i in 1:numberOfPoints)\n",
    "    {\n",
    "      df[[paste0(\"x\",i)]] <- sequence[i:(length(sequence)-numberOfPoints+i-1)]\n",
    "      formulaString <- paste0(formulaString,\"+x\",i)\n",
    "    }\n",
    "    formulaString <- sub(\"~\\\\+\",\"~\",formulaString)\n",
    "\n",
    "    fit <- lm(formula(formulaString),df)\n",
    "    mae <- max(abs(fit$residuals))\n",
    "\n",
    "    # Make prediction\n",
    "    if(forSubmission && mae > modeFallbackThreshold)\n",
    "    {\n",
    "      prediction <- Mode(sequence)\n",
    "    }\n",
    "    else\n",
    "    {\n",
    "      df <- list()\n",
    "      for(i in 1:numberOfPoints)\n",
    "      {\n",
    "        df[[paste0(\"x\",i)]] <- sequence[length(sequence)-numberOfPoints+i]\n",
    "      }\n",
    "      df <- as.data.frame(df)\n",
    "  \n",
    "      prediction <- predict(fit,df)\n",
    "    }\n",
    "\n",
    "    # Round the prediction to an integer\n",
    "    prediction <- round(prediction)\n",
    "  }\n",
    "  \n",
    "  if(forSubmission)\n",
    "  {\n",
    "    return(prediction)\n",
    "  }\n",
    "  else\n",
    "  {\n",
    "    return(data.frame(prediction=prediction,\n",
    "                      mae=mae,\n",
    "                      oos=oos,\n",
    "                      mode=Mode(sequence)))\n",
    "  }\n",
    "}"
   ]
  },
  {
   "cell_type": "code",
   "execution_count": 109,
   "metadata": {
    "collapsed": true
   },
   "outputs": [],
   "source": [
    "evaluateResults <- function(results,modeFallbackThreshold)\n",
    "{\n",
    "  (sum((results$prediction==results$oos)[results$mae<modeFallbackThreshold],na.rm=TRUE) +\n",
    "   sum((results$mode==results$oos)[results$mae>=modeFallbackThreshold],na.rm=TRUE)) /\n",
    "    sum(!is.na(results$prediction))\n",
    "}"
   ]
  },
  {
   "cell_type": "code",
   "execution_count": 111,
   "metadata": {
    "collapsed": true
   },
   "outputs": [],
   "source": [
    "generateSubmission <- function(filename,numberOfPoints,modeFallbackThreshold,verbose=TRUE)\n",
    "{\n",
    "  submission <- data.frame(Id=data$Id,\n",
    "                           Last=sapply(1:nrow(data),\n",
    "                                       function(i)\n",
    "                                       {\n",
    "                                         model <- fitModel(data$Sequence[[i]],\n",
    "                                                           numberOfPoints=numberOfPoints,\n",
    "                                                           modeFallbackThreshold=modeFallbackThreshold,\n",
    "                                                           forSubmission=TRUE)\n",
    "                                         if(verbose && i %% 1000 == 0)\n",
    "                                         {\n",
    "                                           print(paste(\"Done\",i,\"sequences\"))\n",
    "                                         }\n",
    "                                         return(model)\n",
    "                                       }))\n",
    "  options(scipen=999)\n",
    "  write.csv(submission,filename,row.names=FALSE)\n",
    "}"
   ]
  },
  {
   "cell_type": "code",
   "execution_count": 112,
   "metadata": {
    "collapsed": true
   },
   "outputs": [],
   "source": [
    "data <- read.csv(\"test.csv\",stringsAsFactors=FALSE)"
   ]
  },
  {
   "cell_type": "code",
   "execution_count": 113,
   "metadata": {
    "collapsed": false
   },
   "outputs": [
    {
     "name": "stdout",
     "output_type": "stream",
     "text": [
      "[1] \"Done 1000 sequences\"\n",
      "[1] \"Done 2000 sequences\"\n",
      "[1] \"Done 3000 sequences\"\n",
      "[1] \"Done 4000 sequences\"\n",
      "[1] \"Done 5000 sequences\"\n",
      "[1] \"Done 6000 sequences\"\n",
      "[1] \"Done 7000 sequences\"\n",
      "[1] \"Done 8000 sequences\"\n",
      "[1] \"Done 9000 sequences\"\n",
      "[1] \"Done 10000 sequences\"\n",
      "[1] \"Done 11000 sequences\"\n",
      "[1] \"Done 12000 sequences\"\n",
      "[1] \"Done 13000 sequences\"\n",
      "[1] \"Done 14000 sequences\"\n",
      "[1] \"Done 15000 sequences\"\n",
      "[1] \"Done 16000 sequences\"\n",
      "[1] \"Done 17000 sequences\"\n",
      "[1] \"Done 18000 sequences\"\n",
      "[1] \"Done 19000 sequences\"\n",
      "[1] \"Done 20000 sequences\"\n",
      "[1] \"Done 21000 sequences\"\n",
      "[1] \"Done 22000 sequences\"\n",
      "[1] \"Done 23000 sequences\"\n",
      "[1] \"Done 24000 sequences\"\n",
      "[1] \"Done 25000 sequences\"\n",
      "[1] \"Done 26000 sequences\"\n",
      "[1] \"Done 27000 sequences\"\n",
      "[1] \"Done 28000 sequences\"\n",
      "[1] \"Done 29000 sequences\"\n",
      "[1] \"Done 30000 sequences\"\n",
      "[1] \"Done 31000 sequences\"\n",
      "[1] \"Done 32000 sequences\"\n",
      "[1] \"Done 33000 sequences\"\n",
      "[1] \"Done 34000 sequences\"\n",
      "[1] \"Done 35000 sequences\"\n",
      "[1] \"Done 36000 sequences\"\n",
      "[1] \"Done 37000 sequences\"\n",
      "[1] \"Done 38000 sequences\"\n",
      "[1] \"Done 39000 sequences\"\n",
      "[1] \"Done 40000 sequences\"\n",
      "[1] \"Done 41000 sequences\"\n",
      "[1] \"Done 42000 sequences\"\n",
      "[1] \"Done 43000 sequences\"\n",
      "[1] \"Done 44000 sequences\"\n",
      "[1] \"Done 45000 sequences\"\n",
      "[1] \"Done 46000 sequences\"\n",
      "[1] \"Done 47000 sequences\"\n",
      "[1] \"Done 48000 sequences\"\n",
      "[1] \"Done 49000 sequences\"\n",
      "[1] \"Done 50000 sequences\"\n",
      "[1] \"Done 51000 sequences\"\n",
      "[1] \"Done 52000 sequences\"\n",
      "[1] \"Done 53000 sequences\"\n",
      "[1] \"Done 54000 sequences\"\n",
      "[1] \"Done 55000 sequences\"\n",
      "[1] \"Done 56000 sequences\"\n",
      "[1] \"Done 57000 sequences\"\n",
      "[1] \"Done 58000 sequences\"\n",
      "[1] \"Done 59000 sequences\"\n",
      "[1] \"Done 60000 sequences\"\n",
      "[1] \"Done 61000 sequences\"\n",
      "[1] \"Done 62000 sequences\"\n",
      "[1] \"Done 63000 sequences\"\n",
      "[1] \"Done 64000 sequences\"\n",
      "[1] \"Done 65000 sequences\"\n",
      "[1] \"Done 66000 sequences\"\n",
      "[1] \"Done 67000 sequences\"\n",
      "[1] \"Done 68000 sequences\"\n",
      "[1] \"Done 69000 sequences\"\n",
      "[1] \"Done 70000 sequences\"\n",
      "[1] \"Done 71000 sequences\"\n",
      "[1] \"Done 72000 sequences\"\n",
      "[1] \"Done 73000 sequences\"\n",
      "[1] \"Done 74000 sequences\"\n",
      "[1] \"Done 75000 sequences\"\n",
      "[1] \"Done 76000 sequences\"\n",
      "[1] \"Done 77000 sequences\"\n",
      "[1] \"Done 78000 sequences\"\n",
      "[1] \"Done 79000 sequences\"\n",
      "[1] \"Done 80000 sequences\"\n",
      "[1] \"Done 81000 sequences\"\n",
      "[1] \"Done 82000 sequences\"\n",
      "[1] \"Done 83000 sequences\"\n",
      "[1] \"Done 84000 sequences\"\n",
      "[1] \"Done 85000 sequences\"\n",
      "[1] \"Done 86000 sequences\"\n",
      "[1] \"Done 87000 sequences\"\n",
      "[1] \"Done 88000 sequences\"\n",
      "[1] \"Done 89000 sequences\"\n",
      "[1] \"Done 90000 sequences\"\n",
      "[1] \"Done 91000 sequences\"\n",
      "[1] \"Done 92000 sequences\"\n",
      "[1] \"Done 93000 sequences\"\n",
      "[1] \"Done 94000 sequences\"\n",
      "[1] \"Done 95000 sequences\"\n",
      "[1] \"Done 96000 sequences\"\n",
      "[1] \"Done 97000 sequences\"\n",
      "[1] \"Done 98000 sequences\"\n",
      "[1] \"Done 99000 sequences\"\n",
      "[1] \"Done 100000 sequences\"\n",
      "[1] \"Done 101000 sequences\"\n",
      "[1] \"Done 102000 sequences\"\n",
      "[1] \"Done 103000 sequences\"\n",
      "[1] \"Done 104000 sequences\"\n",
      "[1] \"Done 105000 sequences\"\n",
      "[1] \"Done 106000 sequences\"\n",
      "[1] \"Done 107000 sequences\"\n",
      "[1] \"Done 108000 sequences\"\n",
      "[1] \"Done 109000 sequences\"\n",
      "[1] \"Done 110000 sequences\"\n",
      "[1] \"Done 111000 sequences\"\n",
      "[1] \"Done 112000 sequences\"\n",
      "[1] \"Done 113000 sequences\"\n"
     ]
    }
   ],
   "source": [
    "generateSubmission(\"linearPrevious10WithModeFallback.csv\",numberOfPoints=10,modeFallbackThreshold=15)"
   ]
  }
 ],
 "metadata": {
  "kernelspec": {
   "display_name": "R",
   "language": "R",
   "name": "ir"
  },
  "language_info": {
   "codemirror_mode": "r",
   "file_extension": ".r",
   "mimetype": "text/x-r-source",
   "name": "R",
   "pygments_lexer": "r",
   "version": "3.3.3"
  }
 },
 "nbformat": 4,
 "nbformat_minor": 2
}
